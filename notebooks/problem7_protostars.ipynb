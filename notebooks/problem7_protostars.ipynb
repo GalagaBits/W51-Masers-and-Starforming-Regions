{
 "cells": [
  {
   "cell_type": "code",
   "execution_count": 3,
   "id": "7859a19a-e671-4953-90c8-5a56c484a555",
   "metadata": {},
   "outputs": [],
   "source": [
    "from astropy import units as u\n",
    "from astropy import constants as const\n",
    "import numpy as np"
   ]
  },
  {
   "cell_type": "code",
   "execution_count": 6,
   "id": "2c673280-a849-4e8c-b2af-8ddb04d2a2cd",
   "metadata": {},
   "outputs": [],
   "source": [
    "def dimensionless_mass(c_s, P_s, M):\n",
    "    top = M\n",
    "    bot = (c_s ** 4) / np.sqrt((const.G**3) * P_s)\n",
    "    \n",
    "    return top/bot"
   ]
  },
  {
   "cell_type": "code",
   "execution_count": 7,
   "id": "f63326cd-3cce-4dc5-adb2-5fcbdd035437",
   "metadata": {},
   "outputs": [
    {
     "data": {
      "text/latex": [
       "$5.4526621 \\times 10^{-16} \\; \\mathrm{\\frac{m^{9/2}}{kg^{3/2}\\,s^{3}}}$"
      ],
      "text/plain": [
       "<Quantity 5.4526621e-16 m(9/2) / (kg(3/2) s3)>"
      ]
     },
     "execution_count": 7,
     "metadata": {},
     "output_type": "execute_result"
    }
   ],
   "source": [
    "dimensionless_mass(1,1,1)"
   ]
  },
  {
   "cell_type": "code",
   "execution_count": null,
   "id": "b1e26713-9020-48b0-9cb7-206430a4ce54",
   "metadata": {},
   "outputs": [],
   "source": []
  }
 ],
 "metadata": {
  "kernelspec": {
   "display_name": "Python 3 (ipykernel)",
   "language": "python",
   "name": "python3"
  },
  "language_info": {
   "codemirror_mode": {
    "name": "ipython",
    "version": 3
   },
   "file_extension": ".py",
   "mimetype": "text/x-python",
   "name": "python",
   "nbconvert_exporter": "python",
   "pygments_lexer": "ipython3",
   "version": "3.8.1"
  }
 },
 "nbformat": 4,
 "nbformat_minor": 5
}
