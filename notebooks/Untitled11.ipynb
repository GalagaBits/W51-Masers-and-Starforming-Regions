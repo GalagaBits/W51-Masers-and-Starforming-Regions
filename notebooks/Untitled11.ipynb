{
 "cells": [
  {
   "cell_type": "markdown",
   "id": "6a372c2f-ecdb-41dd-9a41-6d62fbc427da",
   "metadata": {},
   "source": [
    "## Built-In Functions"
   ]
  },
  {
   "cell_type": "code",
   "execution_count": null,
   "id": "a1d995e4-6c0c-4413-b331-db4ec911d328",
   "metadata": {},
   "outputs": [],
   "source": [
    "x = float(1)"
   ]
  },
  {
   "cell_type": "code",
   "execution_count": 1,
   "id": "f0bfe099-4236-456c-a09d-d6f31fd5a0a8",
   "metadata": {},
   "outputs": [
    {
     "name": "stdout",
     "output_type": "stream",
     "text": [
      "Enter the value of x:  70\n"
     ]
    }
   ],
   "source": [
    "x = input(\"Enter the value of x: \")"
   ]
  },
  {
   "cell_type": "code",
   "execution_count": 2,
   "id": "e54621d9-83fa-4fcc-b67a-5c937572787a",
   "metadata": {},
   "outputs": [
    {
     "name": "stdout",
     "output_type": "stream",
     "text": [
      "70\n"
     ]
    }
   ],
   "source": [
    "print(x)"
   ]
  },
  {
   "cell_type": "code",
   "execution_count": 3,
   "id": "81944b9b-7f3b-486a-b5ac-ab16428e16eb",
   "metadata": {},
   "outputs": [],
   "source": [
    "# Hello! Hi there! This line does nothing at all."
   ]
  },
  {
   "cell_type": "code",
   "execution_count": 5,
   "id": "8fcd0984-3c1d-41a5-b41a-0470082ada8a",
   "metadata": {},
   "outputs": [
    {
     "name": "stdout",
     "output_type": "stream",
     "text": [
      "Enter a whole number no greater than ten. 11\n"
     ]
    },
    {
     "name": "stdout",
     "output_type": "stream",
     "text": [
      "You entered a number greater than ten.\n",
      "Let me fix that for you.\n",
      "Your number is 10\n"
     ]
    }
   ],
   "source": [
    "x = int(input(\"Enter a whole number no greater than ten.\"))\n",
    "\n",
    "if x > 10:\n",
    "    print(\"You entered a number greater than ten.\")\n",
    "    print(\"Let me fix that for you.\")\n",
    "    x = 10\n",
    "print(\"Your number is\", x)"
   ]
  },
  {
   "cell_type": "code",
   "execution_count": null,
   "id": "b24e4b44-7b39-488e-808c-794ba32880ae",
   "metadata": {},
   "outputs": [],
   "source": [
    "if x > 10 or x < 1:\n",
    "    print(\"Your number is either too big or too small.\")\n",
    "\n",
    "if x <= 10 and x >= 1:\n",
    "    print(\"Your number is just right.\")\n",
    "    \n",
    "if x > 10:\n",
    "    print(\"Your number is greater than ten.\")\n",
    "else:\n",
    "    print(\"Your number is fine. Nothing to see here\")"
   ]
  },
  {
   "cell_type": "code",
   "execution_count": 6,
   "id": "211dcbdd-771d-4e99-a639-489394dfee12",
   "metadata": {},
   "outputs": [
    {
     "name": "stdout",
     "output_type": "stream",
     "text": [
      "Enter a whole number no greater than ten:  12\n"
     ]
    },
    {
     "name": "stdout",
     "output_type": "stream",
     "text": [
      "This is greater than ten. Please try again.\n"
     ]
    },
    {
     "name": "stdout",
     "output_type": "stream",
     "text": [
      "Enter a whole number no greater than ten:  12\n"
     ]
    },
    {
     "name": "stdout",
     "output_type": "stream",
     "text": [
      "This is greater than ten. Please try again.\n"
     ]
    },
    {
     "name": "stdout",
     "output_type": "stream",
     "text": [
      "Enter a whole number no greater than ten:  10\n"
     ]
    },
    {
     "name": "stdout",
     "output_type": "stream",
     "text": [
      "Your number is 10\n"
     ]
    }
   ],
   "source": [
    "x = int(input(\"Enter a whole number no greater than ten: \"))\n",
    "while x > 10:\n",
    "    print(\"This is greater than ten. Please try again.\")\n",
    "    x = int(input(\"Enter a whole number no greater than ten: \"))\n",
    "print(\"Your number is\",x)"
   ]
  },
  {
   "cell_type": "code",
   "execution_count": 11,
   "id": "a647e028-75e4-4f17-885e-52f44e60cedf",
   "metadata": {},
   "outputs": [
    {
     "name": "stdout",
     "output_type": "stream",
     "text": [
      "Enter a whole number no greater than ten:  111\n"
     ]
    },
    {
     "name": "stdout",
     "output_type": "stream",
     "text": [
      "This is greater than ten. Please try again.\n"
     ]
    },
    {
     "name": "stdout",
     "output_type": "stream",
     "text": [
      "Enter a whole number no greater than ten:  12\n"
     ]
    },
    {
     "name": "stdout",
     "output_type": "stream",
     "text": [
      "This is greater than ten. Please try again.\n"
     ]
    },
    {
     "name": "stdout",
     "output_type": "stream",
     "text": [
      "Enter a whole number no greater than ten:  111\n"
     ]
    }
   ],
   "source": [
    "x = int(input(\"Enter a whole number no greater than ten: \"))\n",
    "while x > 10:\n",
    "    print(\"This is greater than ten. Please try again.\")\n",
    "    x = int(input(\"Enter a whole number no greater than ten: \"))\n",
    "    if x == 111:\n",
    "        break\n",
    "        "
   ]
  },
  {
   "cell_type": "code",
   "execution_count": 12,
   "id": "75ed69b4-6594-4c10-b524-893b8353fee8",
   "metadata": {},
   "outputs": [
    {
     "name": "stdout",
     "output_type": "stream",
     "text": [
      "Enter an integer:  1\n"
     ]
    },
    {
     "name": "stdout",
     "output_type": "stream",
     "text": [
      "odd\n"
     ]
    }
   ],
   "source": [
    "n = int(input(\"Enter an integer: \"))\n",
    "if n%2==0: \n",
    "    print(\"even\")\n",
    "else:\n",
    "    print(\"odd\")"
   ]
  },
  {
   "cell_type": "code",
   "execution_count": 13,
   "id": "0d1e186e-0639-40f1-92dd-82661855dffa",
   "metadata": {},
   "outputs": [
    {
     "name": "stdout",
     "output_type": "stream",
     "text": [
      "1\n",
      "2\n",
      "3\n",
      "5\n",
      "8\n",
      "13\n",
      "21\n",
      "34\n",
      "55\n",
      "89\n",
      "144\n",
      "233\n",
      "377\n",
      "610\n",
      "987\n"
     ]
    }
   ],
   "source": [
    "f1 = 1\n",
    "f2 = 2\n",
    "while f1 <= 1000:\n",
    "    print(f1)\n",
    "    fnext = f1 + f2\n",
    "    f1 = f2\n",
    "    f2 = fnext"
   ]
  },
  {
   "cell_type": "code",
   "execution_count": null,
   "id": "8c269348-ebc9-4f32-9cd8-ecc26373a4c0",
   "metadata": {},
   "outputs": [],
   "source": []
  }
 ],
 "metadata": {
  "kernelspec": {
   "display_name": "Python 3.7.3 64-bit ('miniconda3_bck')",
   "language": "python",
   "name": "python3"
  },
  "language_info": {
   "codemirror_mode": {
    "name": "ipython",
    "version": 3
   },
   "file_extension": ".py",
   "mimetype": "text/x-python",
   "name": "python",
   "nbconvert_exporter": "python",
   "pygments_lexer": "ipython3",
   "version": "3.7.3"
  },
  "vscode": {
   "interpreter": {
    "hash": "d8f9a345e900ce3eb49c363c76006a04335734603dacbce44e3b8ecac338caf3"
   }
  }
 },
 "nbformat": 4,
 "nbformat_minor": 5
}
