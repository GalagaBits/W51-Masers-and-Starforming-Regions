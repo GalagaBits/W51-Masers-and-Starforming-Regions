{
 "cells": [
  {
   "cell_type": "code",
   "execution_count": 1,
   "id": "20a9cfa9-c25c-4b45-b612-5fa4b20d563b",
   "metadata": {},
   "outputs": [],
   "source": [
    "from astropy import units as u\n",
    "from astropy.coordinates import SkyCoord"
   ]
  },
  {
   "cell_type": "code",
   "execution_count": 2,
   "id": "7c94c31d-788e-4315-b6c1-9f6e585206c7",
   "metadata": {},
   "outputs": [],
   "source": [
    "c = SkyCoord('19h23m40.051s', '+14d31m05.483s', frame='fk5')"
   ]
  },
  {
   "cell_type": "code",
   "execution_count": 3,
   "id": "0bbb32a6-d7a8-4cf0-b8bb-e247b2d0b577",
   "metadata": {},
   "outputs": [
    {
     "data": {
      "text/plain": [
       "14.518189722222223"
      ]
     },
     "execution_count": 3,
     "metadata": {},
     "output_type": "execute_result"
    }
   ],
   "source": [
    "c.dec.deg"
   ]
  },
  {
   "cell_type": "code",
   "execution_count": 4,
   "id": "8726e3c3-bd4f-42c8-8dd2-44ee331625a5",
   "metadata": {},
   "outputs": [
    {
     "data": {
      "text/plain": [
       "290.91687916666666"
      ]
     },
     "execution_count": 4,
     "metadata": {},
     "output_type": "execute_result"
    }
   ],
   "source": [
    "c.ra.deg"
   ]
  },
  {
   "cell_type": "code",
   "execution_count": 14,
   "id": "3b72e4e2-5fee-41a5-8513-88cf1d84f0f6",
   "metadata": {},
   "outputs": [],
   "source": [
    "c = SkyCoord(ra=2.90917076e2*u.degree, dec=1.45182376e1*u.degree, frame='icrs')"
   ]
  },
  {
   "cell_type": "code",
   "execution_count": 15,
   "id": "c4c51b44-f69a-48b0-84ef-1af93ae227e9",
   "metadata": {},
   "outputs": [
    {
     "data": {
      "text/plain": [
       "'19h23m40.09824s +14d31m05.65536s'"
      ]
     },
     "execution_count": 15,
     "metadata": {},
     "output_type": "execute_result"
    }
   ],
   "source": [
    "c.to_string('hmsdms')"
   ]
  },
  {
   "cell_type": "code",
   "execution_count": 2,
   "id": "a68d8924-2beb-423d-9671-7d85016dfdbf",
   "metadata": {},
   "outputs": [],
   "source": [
    "c = SkyCoord(ra=2.909170744e2*u.degree, dec=1.451823444e1*u.degree, frame='icrs')"
   ]
  },
  {
   "cell_type": "code",
   "execution_count": 3,
   "id": "989740d7-b8b1-49a7-a6d2-ff4b9969f922",
   "metadata": {},
   "outputs": [
    {
     "data": {
      "text/plain": [
       "'19h23m40.097856s +14d31m05.643984s'"
      ]
     },
     "execution_count": 3,
     "metadata": {},
     "output_type": "execute_result"
    }
   ],
   "source": [
    "c.to_string('hmsdms')"
   ]
  },
  {
   "cell_type": "code",
   "execution_count": 18,
   "id": "f47329c6-86da-459f-92cd-67feb72e7807",
   "metadata": {},
   "outputs": [],
   "source": [
    "c = SkyCoord(ra=2.909170724e2*u.degree, dec=1.451823333e1*u.degree, frame='fk5')"
   ]
  },
  {
   "cell_type": "code",
   "execution_count": 19,
   "id": "1319d390-b3e5-497b-ba1e-ec0b978c0860",
   "metadata": {},
   "outputs": [
    {
     "data": {
      "text/plain": [
       "'19h23m40.097376s +14d31m05.639988s'"
      ]
     },
     "execution_count": 19,
     "metadata": {},
     "output_type": "execute_result"
    }
   ],
   "source": [
    "c.to_string('hmsdms')"
   ]
  },
  {
   "cell_type": "code",
   "execution_count": 20,
   "id": "f1221a1f-0ae4-4719-82a2-42a97735387d",
   "metadata": {},
   "outputs": [],
   "source": [
    "c = SkyCoord(ra=2.909170714e2*u.degree, dec=1.451823383e1*u.degree, frame='fk5')"
   ]
  },
  {
   "cell_type": "code",
   "execution_count": 21,
   "id": "92e7f6ae-1639-40f7-b9d5-b7dedb4b6da8",
   "metadata": {},
   "outputs": [
    {
     "data": {
      "text/plain": [
       "'19h23m40.097136s +14d31m05.641788s'"
      ]
     },
     "execution_count": 21,
     "metadata": {},
     "output_type": "execute_result"
    }
   ],
   "source": [
    "c.to_string('hmsdms')"
   ]
  },
  {
   "cell_type": "code",
   "execution_count": null,
   "id": "37564217-d910-4579-aa81-8c8eafdc20d1",
   "metadata": {},
   "outputs": [],
   "source": []
  }
 ],
 "metadata": {
  "kernelspec": {
   "display_name": "Python 3 (ipykernel)",
   "language": "python",
   "name": "python3"
  },
  "language_info": {
   "codemirror_mode": {
    "name": "ipython",
    "version": 3
   },
   "file_extension": ".py",
   "mimetype": "text/x-python",
   "name": "python",
   "nbconvert_exporter": "python",
   "pygments_lexer": "ipython3",
   "version": "3.8.1"
  }
 },
 "nbformat": 4,
 "nbformat_minor": 5
}
