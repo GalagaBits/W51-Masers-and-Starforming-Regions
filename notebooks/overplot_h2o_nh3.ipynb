{
 "cells": [
  {
   "cell_type": "code",
   "execution_count": 69,
   "metadata": {},
   "outputs": [],
   "source": [
    "from astropy.table import Table\n",
    "from astropy import units as u\n",
    "from astropy.coordinates import SkyCoord\n",
    "\n",
    "import numpy as np\n",
    "import pylab as pl\n",
    "import matplotlib.pyplot as plt\n",
    "from astropy import units as u\n",
    "from astropy.wcs import WCS\n",
    "from astropy import visualization\n",
    "from spectral_cube import SpectralCube\n",
    "import warnings\n",
    "import pandas as pd\n",
    "\n",
    "tbl = Table.read('table234.tex', format='latex')"
   ]
  },
  {
   "cell_type": "code",
   "execution_count": 70,
   "metadata": {},
   "outputs": [],
   "source": [
    "a = tbl[\"R.A.\"]\n",
    "\n",
    "RA_offset = []\n",
    "for i in a:\n",
    "    d = i.replace(\"$-$\", \"-\")\n",
    "    RA_offset.append(float(d))\n",
    "\n",
    "tbl[\"R.A.\"] = RA_offset"
   ]
  },
  {
   "cell_type": "code",
   "execution_count": 94,
   "metadata": {},
   "outputs": [
    {
     "data": {
      "text/plain": [
       "array([ 7.94700e+01,  8.89400e+01,  8.90800e+01,  0.00000e+00,\n",
       "        7.20900e+01,  7.23900e+01,  1.19360e+02,  1.29200e+02,\n",
       "        1.25340e+02,  1.24670e+02,  1.25620e+02,  1.25450e+02,\n",
       "        1.29330e+02,  1.25690e+02,  6.30000e-01,  7.97200e+01,\n",
       "        8.24100e+01,  1.30330e+02,  4.32600e+01,  1.26160e+02,\n",
       "        6.67000e+01,  6.68800e+01,  1.09270e+02,  1.25980e+02,\n",
       "       -1.97600e+01,  1.09320e+02,  2.19900e+01,  1.28270e+02,\n",
       "        3.98090e+02,  1.09330e+02,  1.04820e+02,  3.97930e+02,\n",
       "       -2.81100e+01,  1.11240e+02,  1.10370e+02,  1.09970e+02,\n",
       "        5.83100e+01,  3.84150e+02, -4.46620e+02, -4.51210e+02,\n",
       "       -4.09000e+02,  8.67300e+01, -4.51770e+02,  1.10140e+02,\n",
       "        7.85600e+01,  1.40000e+01, -4.50390e+02, -4.49590e+02,\n",
       "        9.23800e+01,  7.15060e+02,  1.15640e+02,  8.24200e+01,\n",
       "        6.32260e+02, -3.61440e+02,  1.00030e+02,  8.53800e+02,\n",
       "        1.00480e+02, -4.13520e+02, -4.03210e+02, -3.60930e+02,\n",
       "       -3.61750e+02, -3.61340e+02,  5.89860e+02, -3.37350e+02,\n",
       "       -4.50980e+02, -5.21110e+02, -3.40086e+03, -3.40238e+03,\n",
       "        7.10000e+01,  8.75900e+01, -4.40580e+02,  8.34840e+02,\n",
       "        1.14770e+02, -4.13230e+02,  8.28790e+02])"
      ]
     },
     "execution_count": 94,
     "metadata": {},
     "output_type": "execute_result"
    }
   ],
   "source": [
    "a = np.copy(tbl[\"R.A.\"])"
   ]
  },
  {
   "cell_type": "code",
   "execution_count": 71,
   "metadata": {},
   "outputs": [],
   "source": [
    "b = tbl[\"decl.\"]\n",
    "\n",
    "decl_offset = []\n",
    "for i in b:\n",
    "    d = i.replace(\"$-$\", \"-\")\n",
    "    decl_offset.append(float(d))\n",
    "\n",
    "tbl[\"decl.\"] = decl_offset"
   ]
  },
  {
   "cell_type": "code",
   "execution_count": 96,
   "metadata": {},
   "outputs": [
    {
     "data": {
      "text/plain": [
       "<SkyCoord (ICRS): (ra, dec) in deg\n",
       "    [(2.20750000e-05, -6.22500000e-06), (2.47055556e-05,  1.32000000e-05),\n",
       "     (2.47444444e-05,  1.31111111e-05), (0.00000000e+00,  0.00000000e+00),\n",
       "     (2.00250000e-05, -2.50000000e-07), (2.01083333e-05, -3.41666667e-07),\n",
       "     (3.31555556e-05,  8.68611111e-06), (3.58888889e-05,  2.20000000e-06),\n",
       "     (3.48166667e-05,  8.65000000e-06), (3.46305556e-05,  1.06722222e-05),\n",
       "     (3.48944444e-05,  1.07138889e-05), (3.48472222e-05,  8.40000000e-06),\n",
       "     (3.59250000e-05,  2.30555556e-06), (3.49138889e-05,  1.06388889e-05),\n",
       "     (1.75000000e-07, -1.96666667e-06), (2.21444444e-05,  5.45555556e-06),\n",
       "     (2.28916667e-05, -7.06666667e-06), (3.62027778e-05,  1.74444444e-06),\n",
       "     (1.20166667e-05, -4.83055556e-06), (3.50444444e-05,  1.11111111e-06),\n",
       "     (1.85277778e-05,  2.18888889e-05), (1.85777778e-05,  2.19138889e-05),\n",
       "     (3.03527778e-05, -7.05555556e-06), (3.49944444e-05,  1.94444444e-07),\n",
       "     (3.59999995e+02, -1.49416667e-05), (3.03666667e-05, -7.09722222e-06),\n",
       "     (6.10833333e-06, -1.85500000e-05), (3.56305556e-05, -6.38888889e-08),\n",
       "     (1.10580556e-04, -1.74605556e-04), (3.03694444e-05, -7.18055556e-06),\n",
       "     (2.91166667e-05, -7.65277778e-06), (1.10536111e-04, -1.74466667e-04),\n",
       "     (3.59999992e+02, -2.88666667e-05), (3.09000000e-05, -6.82222222e-06),\n",
       "     (3.06583333e-05, -7.09166667e-06), (3.05472222e-05, -7.12777778e-06),\n",
       "     (1.61972222e-05, -2.16111111e-05), (1.06708333e-04, -1.80108333e-04),\n",
       "     (3.59999876e+02,  6.23138889e-05), (3.59999875e+02,  6.98305556e-05),\n",
       "     (3.59999886e+02,  1.02455556e-04), (2.40916667e-05, -8.61666667e-06),\n",
       "     (3.59999875e+02,  5.84916667e-05), (3.05944444e-05, -7.30833333e-06),\n",
       "     (2.18222222e-05, -9.96666667e-06), (3.88888889e-06,  1.96500000e-05),\n",
       "     (3.59999875e+02,  5.91916667e-05), (3.59999875e+02,  5.68805556e-05),\n",
       "     (2.56611111e-05, -8.08888889e-06), (1.98627778e-04,  1.05658333e-04),\n",
       "     (3.21222222e-05, -6.55277778e-06), (2.28944444e-05, -7.94444444e-06),\n",
       "     (1.75627778e-04, -1.03547222e-04), (3.59999900e+02,  1.23919444e-04),\n",
       "     (2.77861111e-05,  2.24333333e-05), (2.37166667e-04,  1.87125000e-04),\n",
       "     (2.79111111e-05, -6.75000000e-07), (3.59999885e+02,  1.41816667e-04),\n",
       "     (3.59999888e+02,  9.34000000e-05), (3.59999900e+02,  1.23444444e-04),\n",
       "     (3.59999900e+02,  1.23675000e-04), (3.59999900e+02,  1.24358333e-04),\n",
       "     (1.63850000e-04, -1.69450000e-04), (3.59999906e+02,  1.31905556e-04),\n",
       "     (3.59999875e+02,  1.00805556e-04), (3.59999855e+02, -1.86458333e-04),\n",
       "     (3.59999055e+02,  3.44500000e-05), (3.59999055e+02,  3.47194444e-05),\n",
       "     (1.97222222e-05,  1.13583333e-05), (2.43305556e-05,  1.84694444e-05),\n",
       "     (3.59999878e+02,  1.07388889e-04), (2.31900000e-04,  1.89066667e-04),\n",
       "     (3.18805556e-05, -6.68055556e-06), (3.59999885e+02,  9.88333333e-05),\n",
       "     (2.30219444e-04,  1.90016667e-04)]>"
      ]
     },
     "execution_count": 96,
     "metadata": {},
     "output_type": "execute_result"
    }
   ],
   "source": [
    "b = np.copy(tbl[\"decl.\"])\n",
    "coords = SkyCoord(a,b, unit='mas')"
   ]
  },
  {
   "cell_type": "code",
   "execution_count": 90,
   "metadata": {},
   "outputs": [
    {
     "data": {
      "text/latex": [
       "$290^\\circ55{}^\\prime00.75{}^{\\prime\\prime}$"
      ],
      "text/plain": [
       "<Longitude 290.916875 deg>"
      ]
     },
     "execution_count": 90,
     "metadata": {},
     "output_type": "execute_result"
    }
   ],
   "source": [
    "\n",
    "c = SkyCoord('19h23m40.05s', '+14d31m05.59s', frame='fk5')\n",
    "c.ra"
   ]
  },
  {
   "cell_type": "code",
   "execution_count": 73,
   "metadata": {},
   "outputs": [],
   "source": [
    "def w51north_settings():\n",
    "\n",
    "    ax.axis([6750,7750,6750,7750])\n",
    "\n",
    "    radesys = ww.wcs.radesys\n",
    "    \n",
    "    _ = ax.set_xlabel(f\"Right Ascension {ww.wcs.radesys}\")\n",
    "    _ = ax.set_ylabel(f\"Declination {ww.wcs.radesys}\")\n",
    "    \n",
    "    tick_fontsize = 14\n",
    "    fontsize = 16\n",
    "    ra = ax.coords['ra']\n",
    "    ra.set_major_formatter('hh:mm:ss.s')\n",
    "    dec = ax.coords['dec']\n",
    "    ra.set_axislabel(f\"RA ({radesys})\", fontsize=fontsize)\n",
    "    dec.set_axislabel(f\"Dec ({radesys})\", fontsize=fontsize, minpad=0.0)\n",
    "    ra.ticklabels.set_fontsize(tick_fontsize)\n",
    "    ra.set_ticklabel(exclude_overlapping=True)\n",
    "    dec.ticklabels.set_fontsize(tick_fontsize)\n",
    "    dec.set_ticklabel(exclude_overlapping=True)\n",
    "    \n",
    "    return ax"
   ]
  },
  {
   "cell_type": "code",
   "execution_count": 74,
   "metadata": {},
   "outputs": [
    {
     "name": "stderr",
     "output_type": "stream",
     "text": [
      "/home/dealderod/.local/lib/python3.8/site-packages/casa_formats_io/casa_dask.py:232: RuntimeWarning: divide by zero encountered in long_scalars\n",
      "  factors = [f for f in range(stacks[dim] + 1) if stacks[dim] % f == 0]\n",
      "WARNING: StokesWarning: Cube is a Stokes cube, returning spectral cube for I component [spectral_cube.io.core]\n"
     ]
    }
   ],
   "source": [
    "fn = '/orange/adamginsburg/w51/2017.1.00293.S/may2021_successful_imaging/w51n.spw0thru19.14500.robust0.thr0.075mJy.mfs.I.startmod.selfcal7.image.tt0.pbcor'\n",
    "fh = SpectralCube.read(fn, format='casa_image')\n",
    "cen = fh.shape[1]/2, fh.shape[2]/2\n",
    "\n",
    "with warnings.catch_warnings():\n",
    "    warnings.simplefilter('ignore')\n",
    "    ww = WCS(fh[0].header)"
   ]
  },
  {
   "cell_type": "code",
   "execution_count": 98,
   "metadata": {},
   "outputs": [
    {
     "data": {
      "image/png": "[encoded data removed]",
      "text/plain": [
       "<Figure size 360x360 with 1 Axes>"
      ]
     },
     "metadata": {
      "needs_background": "light"
     },
     "output_type": "display_data"
    }
   ],
   "source": [
    "fig, ax = plt.subplots(figsize=(5,5))\n",
    "\n",
    "ax = pl.subplot(projection=ww)\n",
    "w51north_settings()\n",
    "\n",
    "im = ax.imshow(fh[0].data, cmap='gray', norm=visualization.simple_norm(fh[0].data, stretch='linear', max_percent=99.999))\n",
    "\n",
    "ax.scatter(c.ra.deg, c.dec.deg, s=100, c = \"blue\", transform=ax.get_transform('world'))\n",
    "ax.scatter(c.ra.deg + coords.ra.deg, c.dec.deg + coords.dec.deg , s=10, c = \"blue\", transform=ax.get_transform('world'))\n",
    "\n",
    "ax.axis([cen[0]-180,cen[0]-20,cen[1]-20,cen[1]+140])\n",
    "\n",
    "ax.annotate('(11,9)', (290.916824, 14.51822272), xytext=(290.916824+0.00001, 14.51822272+0.00001), \n",
    "    arrowprops = dict(arrowstyle=\"-\"), xycoords=ax.get_transform('world'), fontsize=16)\n",
    "plt.show()"
   ]
  },
  {
   "cell_type": "code",
   "execution_count": 87,
   "metadata": {},
   "outputs": [
    {
     "data": {
      "text/plain": [
       "290.91620833333326"
      ]
     },
     "execution_count": 87,
     "metadata": {},
     "output_type": "execute_result"
    }
   ],
   "source": [
    "c.ra.deg"
   ]
  },
  {
   "cell_type": "markdown",
   "metadata": {},
   "source": []
  }
 ],
 "metadata": {
  "kernelspec": {
   "display_name": "Python 3.7.3 64-bit ('miniconda3_bck')",
   "language": "python",
   "name": "python3"
  },
  "language_info": {
   "codemirror_mode": {
    "name": "ipython",
    "version": 3
   },
   "file_extension": ".py",
   "mimetype": "text/x-python",
   "name": "python",
   "nbconvert_exporter": "python",
   "pygments_lexer": "ipython3",
   "version": "3.7.3"
  },
  "orig_nbformat": 4,
  "vscode": {
   "interpreter": {
    "hash": "d8f9a345e900ce3eb49c363c76006a04335734603dacbce44e3b8ecac338caf3"
   }
  }
 },
 "nbformat": 4,
 "nbformat_minor": 2
}
