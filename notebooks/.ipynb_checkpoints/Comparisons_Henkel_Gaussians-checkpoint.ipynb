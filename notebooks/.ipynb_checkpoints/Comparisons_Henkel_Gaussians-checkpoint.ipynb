{
 "cells": [
  {
   "cell_type": "code",
   "execution_count": null,
   "metadata": {},
   "outputs": [],
   "source": []
  }
 ],
 "metadata": {
  "kernelspec": {
   "display_name": "Python 3.7.3 64-bit ('miniconda3_bck')",
   "language": "python",
   "name": "python3"
  },
  "language_info": {
   "name": "python",
   "version": "3.7.3"
  },
  "vscode": {
   "interpreter": {
    "hash": "d8f9a345e900ce3eb49c363c76006a04335734603dacbce44e3b8ecac338caf3"
   }
  }
 },
 "nbformat": 4,
 "nbformat_minor": 5
}
