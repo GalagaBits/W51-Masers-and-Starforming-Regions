{
 "cells": [
  {
   "cell_type": "markdown",
   "metadata": {},
   "source": [
    "# Centre of Motion | W51d2, W51CA3"
   ]
  },
  {
   "cell_type": "markdown",
   "metadata": {},
   "source": [
    "## July 10"
   ]
  },
  {
   "cell_type": "code",
   "execution_count": 12,
   "metadata": {},
   "outputs": [],
   "source": [
    "import pandas as pd\n",
    "import sys\n",
    "import numpy as np\n",
    "sys.path.append('/orange/adamginsburg/ALMA_IMF/reduction/analysis/')\n",
    "from quicklook_multicolorbar import quicklook\n",
    "from spectral_cube import SpectralCube\n",
    "import pylab as pl\n",
    "import warnings\n",
    "from astropy.wcs import WCS\n",
    "from astropy import visualization"
   ]
  },
  {
   "cell_type": "code",
   "execution_count": 9,
   "metadata": {},
   "outputs": [],
   "source": [
    "fn = '/orange/adamginsburg/w51/2017.1.00293.S/may2021_imaging/w51n.spw0thru19.14500.robust0.thr0.075mJy.mfs.I.startmod.selfcal7.image.tt0'\n",
    "fh = SpectralCube.read(fn, format='casa_image')\n",
    "\n",
    "with warnings.catch_warnings():\n",
    "    warnings.simplefilter('ignore')\n",
    "    ww = WCS(fh[0].header)"
   ]
  },
  {
   "cell_type": "code",
   "execution_count": 10,
   "metadata": {},
   "outputs": [],
   "source": [
    "def w51north_settings():\n",
    "\n",
    "    ax.axis([6750,7750,6750,7750])\n",
    "\n",
    "    radesys = ww.wcs.radesys\n",
    "    \n",
    "    _ = ax.set_xlabel(f\"Right Ascension {ww.wcs.radesys}\")\n",
    "    _ = ax.set_ylabel(f\"Declination {ww.wcs.radesys}\")\n",
    "    \n",
    "    tick_fontsize = 14\n",
    "    fontsize = 16\n",
    "    ra = ax.coords['ra']\n",
    "    ra.set_major_formatter('hh:mm:ss.s')\n",
    "    dec = ax.coords['dec']\n",
    "    ra.set_axislabel(f\"RA ({radesys})\", fontsize=fontsize)\n",
    "    dec.set_axislabel(f\"Dec ({radesys})\", fontsize=fontsize, minpad=0.0)\n",
    "    ra.ticklabels.set_fontsize(tick_fontsize)\n",
    "    ra.set_ticklabel(exclude_overlapping=True)\n",
    "    dec.ticklabels.set_fontsize(tick_fontsize)\n",
    "    dec.set_ticklabel(exclude_overlapping=True)\n",
    "    \n",
    "    return ax"
   ]
  },
  {
   "cell_type": "code",
   "execution_count": 12,
   "metadata": {},
   "outputs": [
    {
     "data": {
      "image/png": "[encoded data removed]",
      "text/plain": [
       "<Figure size 648x648 with 2 Axes>"
      ]
     },
     "metadata": {
      "needs_background": "light"
     },
     "output_type": "display_data"
    }
   ],
   "source": [
    "import matplotlib.pyplot as plt\n",
    "import numpy as np\n",
    "\n",
    "fig, ax = plt.subplots(figsize=(9,9))\n",
    "\n",
    "ax = pl.subplot(projection=ww)\n",
    "\n",
    "df = pd.read_csv('/orange/adamginsburg/w51/vla/19A-254/derod/W51-Masers-and-Starforming-Regions/notebooks/ammonia.csv')\n",
    "\n",
    "im = ax.imshow(fh[0].data, cmap='gray', norm=visualization.simple_norm(fh[0].data, stretch='log', max_percent=100.00))\n",
    "sc = ax.scatter(df.dec, df.ra, c=df.vlsr_kms, s=df.S*1000, cmap='jet',marker=\"$\\u25EF$\", transform=ax.get_transform('world'))\n",
    "\n",
    "w51north_settings()\n",
    "\n",
    "cb = plt.colorbar(mappable=sc)\n",
    "cb.set_label(\"$V_{LSR}$ [km s-1]\", fontsize = 16)\n",
    "\n",
    "\n",
    "ax.axis([cen[1]-215,cen[1]-190,cen[0]+80,cen[0]+105])\n",
    "ax.axis([cen[1]-215,cen[1]-190,cen[0]+80,cen[0]+105])\n",
    "cb.ax.tick_params(labelsize=14)\n",
    "plt.show()"
   ]
  },
  {
   "cell_type": "code",
   "execution_count": null,
   "metadata": {},
   "outputs": [],
   "source": [
    "import matplotlib.pyplot as plt\n",
    "import numpy as np\n",
    "\n",
    "fig, ax = plt.subplots(figsize=(9,9))\n",
    "\n",
    "ax = pl.subplot(projection=ww)\n",
    "cen = fh.shape[1]/2, fh.shape[2]/2\n",
    "df = pd.read_csv('/orange/adamginsburg/w51/vla/19A-254/derod/W51-Masers-and-Starforming-Regions/notebooks/ammonia.csv')\n",
    "\n",
    "im = ax.imshow(fh[0].data, cmap='gray', norm=visualization.simple_norm(fh[0].data, stretch='log', max_percent=100.00))\n",
    "sc = ax.scatter(df.dec, df.ra, c=df.vlsr_kms, s=df.S*1000, cmap='jet',marker=\"$\\u25EF$\", transform=ax.get_transform('world'))\n",
    "ax.scatter(2.909159082e+02, 1.451801029e+01, marker=\"x\", c='black', linewidth=1.0, s=100, transform=ax.get_transform('world'))\n",
    "\n",
    "w51north_settings()\n",
    "\n",
    "cb = plt.colorbar(mappable=sc)\n",
    "cb.set_label(\"$V_{LSR}$ [km s-1]\", fontsize = 16)\n",
    "\n",
    "ax.axis([cen[0]+350,cen[0]+410,cen[1]-50,cen[1]+10])\n",
    "\n",
    "\n",
    "cb.ax.tick_params(labelsize=14)\n",
    "plt.show()"
   ]
  },
  {
   "cell_type": "code",
   "execution_count": null,
   "metadata": {},
   "outputs": [],
   "source": []
  }
 ],
 "metadata": {
  "kernelspec": {
   "display_name": "Python 3 (ipykernel)",
   "language": "python",
   "name": "python3"
  },
  "language_info": {
   "codemirror_mode": {
    "name": "ipython",
    "version": 3
   },
   "file_extension": ".py",
   "mimetype": "text/x-python",
   "name": "python",
   "nbconvert_exporter": "python",
   "pygments_lexer": "ipython3",
   "version": "3.8.1"
  }
 },
 "nbformat": 4,
 "nbformat_minor": 4
}
