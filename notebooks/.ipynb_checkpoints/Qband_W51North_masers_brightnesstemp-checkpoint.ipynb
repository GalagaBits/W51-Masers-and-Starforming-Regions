{
 "cells": [
  {
   "cell_type": "markdown",
   "metadata": {},
   "source": [
    "# Qband W51North Masers Brightness Temperatures"
   ]
  },
  {
   "cell_type": "code",
   "execution_count": 2,
   "metadata": {},
   "outputs": [],
   "source": [
    "from astropy import units as u\n",
    "from spectral_cube import SpectralCube\n",
    "import numpy as np\n",
    "import radio_beam"
   ]
  },
  {
   "cell_type": "code",
   "execution_count": 3,
   "metadata": {},
   "outputs": [
    {
     "name": "stdout",
     "output_type": "stream",
     "text": [
      "/orange/adamginsburg/w51/vla/19A-254/derod\n"
     ]
    }
   ],
   "source": [
    "cd /orange/adamginsburg/w51/vla/19A-254/derod/"
   ]
  },
  {
   "cell_type": "markdown",
   "metadata": {},
   "source": [
    "## SiO v=1\n",
    "```\n",
    "W51North_spw_44_Qband_rough_04.image.fits\n",
    "```\n",
    "Median area beam = 0.0655921\" X 0.0536248\"\n",
    "rest freq = 43.122090 GHz\n",
    "Flux = 0.0546 Jy\n",
    "FWHM = 0.78 km/s"
   ]
  },
  {
   "cell_type": "code",
   "execution_count": 4,
   "metadata": {},
   "outputs": [
    {
     "data": {
      "text/latex": [
       "$10202.105 \\; \\mathrm{K}$"
      ],
      "text/plain": [
       "<Quantity 10202.10507051 K>"
      ]
     },
     "execution_count": 4,
     "metadata": {},
     "output_type": "execute_result"
    }
   ],
   "source": [
    "bmaj, bmin = 0.0655921*u.arcsec, 0.0536248*u.arcsec\n",
    "fwhm_to_sigma = 1/ (8*np.log(2))**0.5\n",
    "beam_area = 2.*np.pi*(bmaj*bmin*fwhm_to_sigma**2)\n",
    "freq = 43.122090*u.GHz\n",
    "equiv = u.brightness_temperature(freq)\n",
    "((0.0546*u.Jy/beam_area).to(u.K, equivalencies=equiv))"
   ]
  },
  {
   "cell_type": "markdown",
   "metadata": {},
   "source": [
    "## NH3 19-19\n",
    "```\n",
    "W51North_spw_29_Qband_rough_02.image.fits\n",
    "```\n",
    "Median area beam = 0.0443775\" X 0.039476\", 15.5311 deg\n",
    "rest freq = 49.839645 GHz\n",
    "Flux = 158.84 Jy\n",
    "FWHM = 0.55 km/s"
   ]
  },
  {
   "cell_type": "code",
   "execution_count": 3,
   "metadata": {},
   "outputs": [
    {
     "data": {
      "text/latex": [
       "$44609566 \\; \\mathrm{K}$"
      ],
      "text/plain": [
       "<Quantity 44609566.04032179 K>"
      ]
     },
     "execution_count": 3,
     "metadata": {},
     "output_type": "execute_result"
    }
   ],
   "source": [
    "bmaj, bmin = 0.0443775*u.arcsec, 0.039476*u.arcsec\n",
    "fwhm_to_sigma = 1/ (8*np.log(2))**0.5\n",
    "beam_area = 2.*np.pi*(bmaj*bmin*fwhm_to_sigma**2)\n",
    "freq = 49.839645*u.GHz\n",
    "equiv = u.brightness_temperature(freq)\n",
    "((158.84*u.Jy/beam_area).to(u.K, equivalencies=equiv))"
   ]
  },
  {
   "cell_type": "markdown",
   "metadata": {},
   "source": [
    "## SiO v=2\n",
    "```\n",
    "W51North_spw_39_Qband_rough_01.image.fits\n",
    "```\n",
    "Median area beam = 0.0673652\" X 0.0548187\", 50.2667 deg\n",
    "rest freq = 42.82057 GHz\n",
    "Flux = 0.07 Jy\n",
    "FWHM = 0.45 km/s"
   ]
  },
  {
   "cell_type": "code",
   "execution_count": 4,
   "metadata": {},
   "outputs": [
    {
     "data": {
      "text/latex": [
       "$12634.217 \\; \\mathrm{K}$"
      ],
      "text/plain": [
       "<Quantity 12634.21710348 K>"
      ]
     },
     "execution_count": 4,
     "metadata": {},
     "output_type": "execute_result"
    }
   ],
   "source": [
    "bmaj, bmin = 0.0673652*u.arcsec, 0.054818*u.arcsec\n",
    "fwhm_to_sigma = 1/ (8*np.log(2))**0.5\n",
    "beam_area = 2.*np.pi*(bmaj*bmin*fwhm_to_sigma**2)\n",
    "freq = 42.82057*u.GHz\n",
    "equiv = u.brightness_temperature(freq)\n",
    "((0.07*u.Jy/beam_area).to(u.K, equivalencies=equiv))"
   ]
  }
 ],
 "metadata": {
  "kernelspec": {
   "display_name": "UFRC Python-3.8",
   "language": "python",
   "name": "python3-3.8-ufrc"
  },
  "language_info": {
   "codemirror_mode": {
    "name": "ipython",
    "version": 3
   },
   "file_extension": ".py",
   "mimetype": "text/x-python",
   "name": "python",
   "nbconvert_exporter": "python",
   "pygments_lexer": "ipython3",
   "version": "3.8.5"
  }
 },
 "nbformat": 4,
 "nbformat_minor": 4
}
