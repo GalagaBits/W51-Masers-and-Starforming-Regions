{
 "cells": [
  {
   "cell_type": "markdown",
   "metadata": {},
   "source": [
    "# W51CA3 2DGaussian Fitting"
   ]
  },
  {
   "cell_type": "markdown",
   "metadata": {},
   "source": [
    "/orange/adamginsburg/w51/2017.1.00293.S/may2021_imaging/w51n.spw0thru19.14500.robust0.thr0.075mJy.mfs.I.startmod.selfcal7.image.tt0\n",
    "\n",
    "/orange/adamginsburg/w51/vla/16B-202_W51QKa/merge/W51North_QbandAarray_cont_spws_continuum_cal_clean_2terms_robust0_wproj_selfcal16_final.image.tt0\n",
    "\n",
    "/orange/adamginsburg/w51/FITS/W51n_cont_briggsSC_tclean.image.fits\n",
    "\n",
    "/orange/adamginsburg/w51/vla/19A-254/continuum_imaging_K"
   ]
  },
  {
   "cell_type": "markdown",
   "metadata": {},
   "source": [
    "::https://github.com/keflavich/hiimodel::"
   ]
  },
  {
   "cell_type": "code",
   "execution_count": 3,
   "metadata": {},
   "outputs": [],
   "source": [
    "import warnings\n",
    "import numpy as np\n",
    "import matplotlib.pyplot as plt\n",
    "from spectral_cube import SpectralCube, Projection\n",
    "from astropy.io import fits\n",
    "from astropy.modeling import models, fitting\n",
    "from astropy.convolution import convolve_models\n",
    "from astropy import units as u\n",
    "\n",
    "from astropy.visualization import quantity_support\n",
    "\n",
    "import pylab as pl"
   ]
  },
  {
   "cell_type": "code",
   "execution_count": 1,
   "metadata": {},
   "outputs": [],
   "source": [
    "directory1 = '/orange/adamginsburg/w51/2017.1.00293.S/may2021_imaging/w51n.spw0thru19.14500.robust0.thr0.075mJy.mfs.I.startmod.selfcal7.image.tt0'"
   ]
  },
  {
   "cell_type": "code",
   "execution_count": null,
   "metadata": {},
   "outputs": [],
   "source": [
    "cube = SpectralCube.read(directory1, format='casa_image')"
   ]
  },
  {
   "cell_type": "code",
   "execution_count": 10,
   "metadata": {},
   "outputs": [
    {
     "name": "stdout",
     "output_type": "stream",
     "text": [
      "DaskSpectralCube with shape=(1, 14500, 14500) and unit=Jy / beam and chunk size (1, 145, 250):\n",
      " n_x:  14500  type_x: RA---SIN  unit_x: deg    range:   290.902106 deg:  290.931230 deg\n",
      " n_y:  14500  type_y: DEC--SIN  unit_y: deg    range:    14.503958 deg:   14.532150 deg\n",
      " n_s:      1  type_s: FREQ      unit_s: Hz     range: 92982344741.789 Hz:92982344741.789 Hz\n"
     ]
    }
   ],
   "source": [
    "print(cube)"
   ]
  },
  {
   "cell_type": "code",
   "execution_count": 11,
   "metadata": {},
   "outputs": [
    {
     "ename": "TypeError",
     "evalue": "Invalid shape (1, 14500, 14500) for image data",
     "output_type": "error",
     "traceback": [
      "\u001b[0;31m---------------------------------------------------------------------------\u001b[0m",
      "\u001b[0;31mTypeError\u001b[0m                                 Traceback (most recent call last)",
      "\u001b[0;32m/scratch/local/8080558/ipykernel_84494/1444587104.py\u001b[0m in \u001b[0;36m<module>\u001b[0;34m\u001b[0m\n\u001b[0;32m----> 1\u001b[0;31m \u001b[0mpl\u001b[0m\u001b[0;34m.\u001b[0m\u001b[0mimshow\u001b[0m\u001b[0;34m(\u001b[0m\u001b[0mcube\u001b[0m\u001b[0;34m,\u001b[0m \u001b[0morigin\u001b[0m\u001b[0;34m=\u001b[0m\u001b[0;34m'lower'\u001b[0m\u001b[0;34m,\u001b[0m \u001b[0mcmap\u001b[0m\u001b[0;34m=\u001b[0m\u001b[0;34m'inferno'\u001b[0m\u001b[0;34m)\u001b[0m\u001b[0;34m\u001b[0m\u001b[0;34m\u001b[0m\u001b[0m\n\u001b[0m\u001b[1;32m      2\u001b[0m \u001b[0mpl\u001b[0m\u001b[0;34m.\u001b[0m\u001b[0mshow\u001b[0m\u001b[0;34m(\u001b[0m\u001b[0;34m)\u001b[0m\u001b[0;34m\u001b[0m\u001b[0;34m\u001b[0m\u001b[0m\n",
      "\u001b[0;32m~/.local/lib/python3.8/site-packages/matplotlib/pyplot.py\u001b[0m in \u001b[0;36mimshow\u001b[0;34m(X, cmap, norm, aspect, interpolation, alpha, vmin, vmax, origin, extent, filternorm, filterrad, resample, url, data, **kwargs)\u001b[0m\n\u001b[1;32m   2901\u001b[0m         \u001b[0mfilternorm\u001b[0m\u001b[0;34m=\u001b[0m\u001b[0;32mTrue\u001b[0m\u001b[0;34m,\u001b[0m \u001b[0mfilterrad\u001b[0m\u001b[0;34m=\u001b[0m\u001b[0;36m4.0\u001b[0m\u001b[0;34m,\u001b[0m \u001b[0mresample\u001b[0m\u001b[0;34m=\u001b[0m\u001b[0;32mNone\u001b[0m\u001b[0;34m,\u001b[0m \u001b[0murl\u001b[0m\u001b[0;34m=\u001b[0m\u001b[0;32mNone\u001b[0m\u001b[0;34m,\u001b[0m\u001b[0;34m\u001b[0m\u001b[0;34m\u001b[0m\u001b[0m\n\u001b[1;32m   2902\u001b[0m         data=None, **kwargs):\n\u001b[0;32m-> 2903\u001b[0;31m     __ret = gca().imshow(\n\u001b[0m\u001b[1;32m   2904\u001b[0m         \u001b[0mX\u001b[0m\u001b[0;34m,\u001b[0m \u001b[0mcmap\u001b[0m\u001b[0;34m=\u001b[0m\u001b[0mcmap\u001b[0m\u001b[0;34m,\u001b[0m \u001b[0mnorm\u001b[0m\u001b[0;34m=\u001b[0m\u001b[0mnorm\u001b[0m\u001b[0;34m,\u001b[0m \u001b[0maspect\u001b[0m\u001b[0;34m=\u001b[0m\u001b[0maspect\u001b[0m\u001b[0;34m,\u001b[0m\u001b[0;34m\u001b[0m\u001b[0;34m\u001b[0m\u001b[0m\n\u001b[1;32m   2905\u001b[0m         \u001b[0minterpolation\u001b[0m\u001b[0;34m=\u001b[0m\u001b[0minterpolation\u001b[0m\u001b[0;34m,\u001b[0m \u001b[0malpha\u001b[0m\u001b[0;34m=\u001b[0m\u001b[0malpha\u001b[0m\u001b[0;34m,\u001b[0m \u001b[0mvmin\u001b[0m\u001b[0;34m=\u001b[0m\u001b[0mvmin\u001b[0m\u001b[0;34m,\u001b[0m\u001b[0;34m\u001b[0m\u001b[0;34m\u001b[0m\u001b[0m\n",
      "\u001b[0;32m~/.local/lib/python3.8/site-packages/matplotlib/__init__.py\u001b[0m in \u001b[0;36minner\u001b[0;34m(ax, data, *args, **kwargs)\u001b[0m\n\u001b[1;32m   1359\u001b[0m     \u001b[0;32mdef\u001b[0m \u001b[0minner\u001b[0m\u001b[0;34m(\u001b[0m\u001b[0max\u001b[0m\u001b[0;34m,\u001b[0m \u001b[0;34m*\u001b[0m\u001b[0margs\u001b[0m\u001b[0;34m,\u001b[0m \u001b[0mdata\u001b[0m\u001b[0;34m=\u001b[0m\u001b[0;32mNone\u001b[0m\u001b[0;34m,\u001b[0m \u001b[0;34m**\u001b[0m\u001b[0mkwargs\u001b[0m\u001b[0;34m)\u001b[0m\u001b[0;34m:\u001b[0m\u001b[0;34m\u001b[0m\u001b[0;34m\u001b[0m\u001b[0m\n\u001b[1;32m   1360\u001b[0m         \u001b[0;32mif\u001b[0m \u001b[0mdata\u001b[0m \u001b[0;32mis\u001b[0m \u001b[0;32mNone\u001b[0m\u001b[0;34m:\u001b[0m\u001b[0;34m\u001b[0m\u001b[0;34m\u001b[0m\u001b[0m\n\u001b[0;32m-> 1361\u001b[0;31m             \u001b[0;32mreturn\u001b[0m \u001b[0mfunc\u001b[0m\u001b[0;34m(\u001b[0m\u001b[0max\u001b[0m\u001b[0;34m,\u001b[0m \u001b[0;34m*\u001b[0m\u001b[0mmap\u001b[0m\u001b[0;34m(\u001b[0m\u001b[0msanitize_sequence\u001b[0m\u001b[0;34m,\u001b[0m \u001b[0margs\u001b[0m\u001b[0;34m)\u001b[0m\u001b[0;34m,\u001b[0m \u001b[0;34m**\u001b[0m\u001b[0mkwargs\u001b[0m\u001b[0;34m)\u001b[0m\u001b[0;34m\u001b[0m\u001b[0;34m\u001b[0m\u001b[0m\n\u001b[0m\u001b[1;32m   1362\u001b[0m \u001b[0;34m\u001b[0m\u001b[0m\n\u001b[1;32m   1363\u001b[0m         \u001b[0mbound\u001b[0m \u001b[0;34m=\u001b[0m \u001b[0mnew_sig\u001b[0m\u001b[0;34m.\u001b[0m\u001b[0mbind\u001b[0m\u001b[0;34m(\u001b[0m\u001b[0max\u001b[0m\u001b[0;34m,\u001b[0m \u001b[0;34m*\u001b[0m\u001b[0margs\u001b[0m\u001b[0;34m,\u001b[0m \u001b[0;34m**\u001b[0m\u001b[0mkwargs\u001b[0m\u001b[0;34m)\u001b[0m\u001b[0;34m\u001b[0m\u001b[0;34m\u001b[0m\u001b[0m\n",
      "\u001b[0;32m~/.local/lib/python3.8/site-packages/matplotlib/axes/_axes.py\u001b[0m in \u001b[0;36mimshow\u001b[0;34m(self, X, cmap, norm, aspect, interpolation, alpha, vmin, vmax, origin, extent, filternorm, filterrad, resample, url, **kwargs)\u001b[0m\n\u001b[1;32m   5607\u001b[0m                               resample=resample, **kwargs)\n\u001b[1;32m   5608\u001b[0m \u001b[0;34m\u001b[0m\u001b[0m\n\u001b[0;32m-> 5609\u001b[0;31m         \u001b[0mim\u001b[0m\u001b[0;34m.\u001b[0m\u001b[0mset_data\u001b[0m\u001b[0;34m(\u001b[0m\u001b[0mX\u001b[0m\u001b[0;34m)\u001b[0m\u001b[0;34m\u001b[0m\u001b[0;34m\u001b[0m\u001b[0m\n\u001b[0m\u001b[1;32m   5610\u001b[0m         \u001b[0mim\u001b[0m\u001b[0;34m.\u001b[0m\u001b[0mset_alpha\u001b[0m\u001b[0;34m(\u001b[0m\u001b[0malpha\u001b[0m\u001b[0;34m)\u001b[0m\u001b[0;34m\u001b[0m\u001b[0;34m\u001b[0m\u001b[0m\n\u001b[1;32m   5611\u001b[0m         \u001b[0;32mif\u001b[0m \u001b[0mim\u001b[0m\u001b[0;34m.\u001b[0m\u001b[0mget_clip_path\u001b[0m\u001b[0;34m(\u001b[0m\u001b[0;34m)\u001b[0m \u001b[0;32mis\u001b[0m \u001b[0;32mNone\u001b[0m\u001b[0;34m:\u001b[0m\u001b[0;34m\u001b[0m\u001b[0;34m\u001b[0m\u001b[0m\n",
      "\u001b[0;32m~/.local/lib/python3.8/site-packages/matplotlib/image.py\u001b[0m in \u001b[0;36mset_data\u001b[0;34m(self, A)\u001b[0m\n\u001b[1;32m    707\u001b[0m         if not (self._A.ndim == 2\n\u001b[1;32m    708\u001b[0m                 or self._A.ndim == 3 and self._A.shape[-1] in [3, 4]):\n\u001b[0;32m--> 709\u001b[0;31m             raise TypeError(\"Invalid shape {} for image data\"\n\u001b[0m\u001b[1;32m    710\u001b[0m                             .format(self._A.shape))\n\u001b[1;32m    711\u001b[0m \u001b[0;34m\u001b[0m\u001b[0m\n",
      "\u001b[0;31mTypeError\u001b[0m: Invalid shape (1, 14500, 14500) for image data"
     ]
    },
    {
     "data": {
      "image/png": "[encoded data removed]",
      "text/plain": [
       "<Figure size 432x288 with 1 Axes>"
      ]
     },
     "metadata": {
      "needs_background": "light"
     },
     "output_type": "display_data"
    }
   ],
   "source": [
    "pl.imshow(cube, origin='lower', cmap='inferno')\n",
    "pl.show()"
   ]
  },
  {
   "cell_type": "code",
   "execution_count": null,
   "metadata": {},
   "outputs": [],
   "source": []
  },
  {
   "cell_type": "code",
   "execution_count": null,
   "metadata": {},
   "outputs": [],
   "source": []
  },
  {
   "cell_type": "code",
   "execution_count": null,
   "metadata": {},
   "outputs": [],
   "source": [
    "import warnings\n",
    "import numpy as np\n",
    "import matplotlib.pyplot as plt\n",
    "from spectral_cube import SpectralCube, Projection\n",
    "from astropy.io import fits\n",
    "from astropy.modeling import models, fitting\n",
    "from astropy.convolution import convolve_models\n",
    "from astropy import units as u\n",
    "\n",
    "from astropy.visualization import quantity_support\n",
    "\n",
    "import pylab as pl\n",
    "\n",
    "#Saving methods\n",
    "directory1 = '/orange/adamginsburg/w51/2017.1.00293.S/may2021_imaging/w51n.spw0thru19.14500.robust0.thr0.075mJy.mfs.I.startmod.selfcal7.image.tt0'\n",
    "\n",
    "def saveplotfig_gaussianfit():\n",
    "    answer = None \n",
    "    while answer not in (\"yes\", \"no\"): \n",
    "        answer = input(\"Save the gaussian fit (yes or no)?\") \n",
    "        if answer == \"yes\": \n",
    "            pl.savefig(directory1+'_GaussianFit2D_V1.0.png')\n",
    "            print('File saved.')\n",
    "            \n",
    "#Accessing Cube Data\n",
    "cube = SpectralCube.read(directory1, format='casa_image')\n",
    "print(cube.max,\"Cube Max)\")\n",
    "print(cube.unit,\"Unit Flux\")\n",
    "cube.beam_threshold = 0.5\n",
    "\n",
    "print(cube)\n",
    "# maser_channel = 579\n",
    "\n",
    "x, y = 100, 100\n",
    "size = 20\n",
    "\n",
    "#cube = cube[1,:,:]\n",
    "\n",
    "\n",
    "#max_2d_cube = cube.max(axis=0)\n",
    "cube_cutout = cube[y - size:y + size, x - size:x + size]\n",
    "#cube_cutout.quicklook()\n",
    "cord = cube.world[y,x]\n",
    "print(cord[1])\n",
    "\n",
    "p_init_gauss2D = models.Gaussian2D(x_mean=cord[1], y_mean=cord[0], amplitude=100 * (u.Jy/u.beam),\n",
    "                                   x_stddev=1.11111e-5 * u.degree, y_stddev=1.11111e-5 * u.degree, theta=(np.pi/2))\n",
    "\n",
    "print(p_init_gauss2D,\"Printed models.Gaussian2D\")\n",
    "\n",
    "yy, xx = cube_cutout.spatial_coordinate_map\n",
    "\n",
    "fit_p = fitting.LevMarLSQFitter()\n",
    "\n",
    "\n",
    "cube_cutout_quant = cube_cutout\n",
    "cube_cutout_quant[np.isnan(cube_cutout_quant)] = 0.0\n",
    "\n",
    "#p_init_gauss2D.theta.fixed = True\n",
    "\n",
    "with warnings.catch_warnings():\n",
    "    warnings.simplefilter('ignore')\n",
    "    p_gauss2D = fit_p(p_init_gauss2D, xx, yy, cube_cutout_quant)\n",
    "    \n",
    "# p_gauss2D_avg = (p_gauss2D.x_stddev[0], p_gauss2D.y_stddev[0])\n",
    "# p_gauss2D.x_stddev[0], p_gauss2D.y_stddev[0] = p_gauss2D_avg\n",
    "\n",
    "fitted_x_stddev = p_gauss2D.x_stddev\n",
    "fitted_y_stddev = p_gauss2D.y_stddev\n",
    "\n",
    "p_gauss2D_avg = (fitted_x_stddev + fitted_y_stddev)/2\n",
    "p_gauss2D.x_stddev = p_gauss2D_avg\n",
    "p_gauss2D.y_stddev = p_gauss2D_avg\n",
    "\n",
    "\n",
    "print(\"\\n param_cov\")\n",
    "\n",
    "print(fit_p.fit_info)\n",
    "\n",
    "cov = np.diag(fit_p.fit_info['param_cov'])\n",
    "errors = np.sqrt(cov)\n",
    "\n",
    "print(\"The errors are:\\n\", errors)\n",
    "\n",
    "amplitude_error=np.format_float_scientific(errors[0],precision=9)\n",
    "x_mean_error=np.format_float_scientific(errors[1],precision=9)\n",
    "y_mean_error=np.format_float_scientific(errors[2],precision=9)\n",
    "x_stddev_error=np.format_float_scientific(errors[3],precision=9)\n",
    "y_stddev_error=np.format_float_scientific(errors[4],precision=9)\n",
    "theta_error=np.format_float_scientific(errors[5],precision=9)\n",
    "\n",
    "amplitude = np.format_float_scientific(p_gauss2D.amplitude[0],precision=9)\n",
    "x_mean = np.format_float_scientific(p_gauss2D.x_mean[0],precision=9)\n",
    "y_mean = np.format_float_scientific(p_gauss2D.y_mean[0],precision=9)\n",
    "x_stddev = np.format_float_scientific(p_gauss2D.x_stddev[0],precision=9)\n",
    "y_stddev = np.format_float_scientific(p_gauss2D.y_stddev[0],precision=9)\n",
    "theta = np.format_float_scientific(p_gauss2D.theta[0],precision=9)\n",
    "\n",
    "\n",
    "\n",
    "\n",
    "print(p_gauss2D.amplitude)\n",
    "print(p_gauss2D.x_mean)\n",
    "print(p_gauss2D.y_mean)\n",
    "print(p_gauss2D.x_stddev)\n",
    "print(p_gauss2D.y_stddev)\n",
    "\n",
    "print(p_gauss2D)\n",
    "              \n",
    "plt.figure(figsize=(18, 6))\n",
    "plt.suptitle(\"W51North NH3 (11,9)\")\n",
    "plt.subplot(1, 3, 1)\n",
    "plt.title(\"Image\")\n",
    "plt.imshow(cube_cutout.value, origin='lower', cmap='inferno')\n",
    "plt.colorbar()\n",
    "plt.xlabel(\"x (degrees)\")\n",
    "plt.ylabel(\"y (degrees)\")\n",
    "plt.subplot(1, 3, 2)\n",
    "plt.title(\"Model\")\n",
    "plt.imshow(p_gauss2D(xx, yy).value, origin='lower', cmap='inferno')\n",
    "plt.colorbar()\n",
    "plt.xlabel(\"x (degrees)\")\n",
    "plt.ylabel(\"y (degrees)\")\n",
    "\n",
    "plt.subplot(1, 3, 3)\n",
    "plt.title(\"Residual\")\n",
    "plt.imshow(cube_cutout.value - p_gauss2D(xx, yy).value, origin='lower', cmap='inferno')\n",
    "plt.colorbar(label='S (Jy)')\n",
    "plt.xlabel(\"x (degrees)\")\n",
    "plt.ylabel(\"y (degrees)\")\n",
    "\n",
    "plt.subplot(1, 3, 2)\n",
    "plt.text(1, 2, \"A(0) = \"+str(amplitude)+\" ± \"+str(amplitude_error)+\" Jy\\n\"+\"x(0) = \"+str(x_mean)+\" ± \"+str(x_mean_error)+\n",
    "        \" deg\\n\"+\"y(0) = \"+str(y_mean)+\" ± \"+str(y_mean_error)+ \" deg\\n\" + \"σ_x(0) = \"+str(x_stddev)+\" ± \"+str(x_stddev_error)+\n",
    "        \" deg\\n\"+\"σ_y(0) = \"+str(y_stddev)+\" ± \"+str(y_stddev_error)+\" deg\\n\" +\"θ(0) = \"+str(theta)+\" ± \"+str(theta_error)+\" rad\",\n",
    "        style='italic',\n",
    "        bbox={'facecolor': 'black', 'alpha': 0.9, 'pad': 10}, color=\"white\",\n",
    "        horizontalalignment='left')\n",
    "\n",
    "plt.tight_layout()\n",
    "saveplotfig_gaussianfit()\n",
    "\n",
    "plt.show()\n",
    "\n",
    "print(\"Parameter\" + ' ' + 'Error' +\"\\n\")\n",
    "print(amplitude + ' ' + amplitude_error +\"\\n\")\n",
    "print(x_mean + ' ' + x_mean_error +\"\\n\")\n",
    "print(y_mean + ' ' + y_mean_error +\"\\n\")\n",
    "print(x_stddev + ' ' + x_stddev_error +\"\\n\")\n",
    "print(y_stddev + ' ' + y_stddev_error +\"\\n\")\n",
    "print(theta + ' ' + theta_error +\"\\n\")"
   ]
  }
 ],
 "metadata": {
  "kernelspec": {
   "display_name": "UFRC Python-3.8",
   "language": "python",
   "name": "python3-3.8-ufrc"
  },
  "language_info": {
   "codemirror_mode": {
    "name": "ipython",
    "version": 3
   },
   "file_extension": ".py",
   "mimetype": "text/x-python",
   "name": "python",
   "nbconvert_exporter": "python",
   "pygments_lexer": "ipython3",
   "version": "3.8.5"
  }
 },
 "nbformat": 4,
 "nbformat_minor": 4
}
