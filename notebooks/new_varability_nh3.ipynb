{
 "cells": [
  {
   "cell_type": "code",
   "execution_count": 2,
   "metadata": {},
   "outputs": [],
   "source": [
    "import matplotlib.pyplot as plt\n",
    "import pandas as pd\n",
    "from astropy.time import Time"
   ]
  },
  {
   "cell_type": "code",
   "execution_count": 12,
   "metadata": {},
   "outputs": [],
   "source": [
    "df = pd.read_csv('/orange/adamginsburg/w51/vla/19A-254/derod/W51-Masers-and-Starforming-Regions/notebooks/ammonia_Total.csv')"
   ]
  },
  {
   "cell_type": "code",
   "execution_count": 13,
   "metadata": {},
   "outputs": [],
   "source": [
    "epoch = '2019-08-02T00:00:00'\n",
    "t = Time(epoch,format='isot',scale='utc')"
   ]
  },
  {
   "cell_type": "code",
   "execution_count": 14,
   "metadata": {},
   "outputs": [],
   "source": [
    "df['epoch'] = t\n",
    "df['epoch_year'] = t.decimalyear"
   ]
  },
  {
   "cell_type": "code",
   "execution_count": 15,
   "metadata": {},
   "outputs": [
    {
     "data": {
      "text/plain": [
       "<Time object: scale='utc' format='isot' value=['2012-04-04T00:00:00.000' '2012-04-04T00:00:00.000'\n",
       " '2012-04-04T00:00:00.000' '2012-04-04T00:00:00.000'\n",
       " '2012-04-04T00:00:00.000' '2012-04-04T00:00:00.000'\n",
       " '2012-04-04T00:00:00.000' '2008-10-25T00:00:00.000'\n",
       " '2012-04-04T00:00:00.000' '2008-10-25T00:00:00.000'\n",
       " '2012-04-04T00:00:00.000' '2012-04-04T00:00:00.000'\n",
       " '2012-04-05T00:00:00.000' '2012-04-05T00:00:00.000'\n",
       " '2012-04-05T00:00:00.000' '2012-04-05T00:00:00.000'\n",
       " '2012-04-07T00:00:00.000' '2012-04-07T00:00:00.000'\n",
       " '2012-04-07T00:00:00.000' '2008-10-23T00:00:00.000'\n",
       " '2008-10-23T00:00:00.000' '2008-10-25T00:00:00.000'\n",
       " '2012-04-04T00:00:00.000' '2012-04-04T00:00:00.000'\n",
       " '2012-04-04T00:00:00.000' '2012-04-04T00:00:00.000'\n",
       " '2012-04-04T00:00:00.000' '1995-11-28T00:00:00.000'\n",
       " '1995-11-28T00:00:00.000' '1995-12-19T00:00:00.000'\n",
       " '2011-08-31T00:00:00.000' '2012-04-04T00:00:00.000'\n",
       " '2012-04-04T00:00:00.000' '1995-11-28T00:00:00.000'\n",
       " '1995-11-28T00:00:00.000' '1995-12-19T00:00:00.000'\n",
       " '2011-08-31T00:00:00.000' '2011-08-31T00:00:00.000']>"
      ]
     },
     "execution_count": 15,
     "metadata": {},
     "output_type": "execute_result"
    }
   ],
   "source": [
    "from astropy.table import Table\n",
    "tbl = Table.read('w51d.tex', format='latex')[2:]\n",
    "\n",
    "epoch_2 = tbl['Epoch']\n",
    "\n",
    "# for x in epoch_2:\n",
    "epoch_2 = Time(epoch_2,format='isot',scale='utc')\n",
    "epoch_2"
   ]
  },
  {
   "cell_type": "code",
   "execution_count": 16,
   "metadata": {},
   "outputs": [
    {
     "name": "stderr",
     "output_type": "stream",
     "text": [
      "/apps/python3/3.6.5/lib/python3.6/site-packages/ipykernel_launcher.py:4: UserWarning: Warning: converting a masked element to nan.\n",
      "  after removing the cwd from sys.path.\n"
     ]
    },
    {
     "data": {
      "text/plain": [
       "[54.39,\n",
       " 57.01,\n",
       " 56.5,\n",
       " 57.0,\n",
       " 54.74,\n",
       " 54.44,\n",
       " 54.3,\n",
       " 45.72,\n",
       " 47.22,\n",
       " 46.02,\n",
       " 47.55,\n",
       " 45.92,\n",
       " 52.25,\n",
       " 54.37,\n",
       " 56.8,\n",
       " 61.23,\n",
       " 54.28,\n",
       " 56.59,\n",
       " 60.97,\n",
       " 45.6,\n",
       " 46.08,\n",
       " 45.66,\n",
       " 47.29,\n",
       " 49.92,\n",
       " 54.72,\n",
       " 54.34,\n",
       " 54.72,\n",
       " 43.76,\n",
       " 43.79,\n",
       " 43.63,\n",
       " 46.81,\n",
       " 46.06,\n",
       " 47.12,\n",
       " 43.84,\n",
       " 44.3,\n",
       " 44.39,\n",
       " 46.87,\n",
       " nan]"
      ]
     },
     "execution_count": 16,
     "metadata": {},
     "output_type": "execute_result"
    }
   ],
   "source": [
    "VLS = list(tbl['VLSR'])\n",
    "VLSR = []\n",
    "for x in VLS:\n",
    "    VLSR.append(float(x))\n",
    "        \n",
    "VLSR"
   ]
  },
  {
   "cell_type": "code",
   "execution_count": 17,
   "metadata": {},
   "outputs": [],
   "source": [
    "epochd2 = []\n",
    "epochd2 = np.append(epochd2,(df.epoch_year[0],\n",
    "df.epoch_year[1],\n",
    "df.epoch_year[2],\n",
    "df.epoch_year[3],\n",
    "df.epoch_year[4],\n",
    "df.epoch_year[5],\n",
    "df.epoch_year[6],\n",
    "df.epoch_year[14],\n",
    "epoch_2.decimalyear[1],\n",
    "epoch_2.decimalyear[0],\n",
    "epoch_2.decimalyear[2],\n",
    "epoch_2.decimalyear[4],\n",
    "epoch_2.decimalyear[5],\n",
    "epoch_2.decimalyear[26]))\n",
    "\n",
    "VLSRd2 = []\n",
    "VLSRd2 = np.append(VLSRd2,(df.vlsr_kms[0],\n",
    "df.vlsr_kms[1],\n",
    "df.vlsr_kms[2],\n",
    "df.vlsr_kms[3],\n",
    "df.vlsr_kms[4],\n",
    "df.vlsr_kms[5],\n",
    "df.vlsr_kms[6],\n",
    "df.vlsr_kms[14],\n",
    "VLSR[1],\n",
    "VLSR[0],\n",
    "VLSR[2],\n",
    "VLSR[4],\n",
    "VLSR[5],\n",
    "VLSR[26]))\n"
   ]
  },
  {
   "cell_type": "code",
   "execution_count": 18,
   "metadata": {},
   "outputs": [],
   "source": [
    "import numpy as np\n",
    "lineyear = []\n",
    "linevlsr = []\n",
    "lineyear.append(df.epoch_year[13])\n",
    "linevlsr.append(df.vlsr_kms[13])\n",
    "lineyear.append(epoch_2.decimalyear[6])\n",
    "linevlsr.append(VLSR[6])\n",
    "line_85 = np.column_stack((lineyear, linevlsr))\n",
    "\n",
    "lineyear53 = []\n",
    "linevlsr53 = []\n",
    "lineyear53.append(df.epoch_year[0])\n",
    "linevlsr53.append(df.vlsr_kms[0])\n",
    "lineyear53.append(epoch_2.decimalyear[1])\n",
    "linevlsr53.append(VLSR[1])\n",
    "line_53 = np.column_stack((lineyear53, linevlsr53))\n",
    "\n",
    "lineyear62 = []\n",
    "linevlsr62 = []\n",
    "lineyear62.append(df.epoch_year[2])\n",
    "linevlsr62.append(df.vlsr_kms[2])\n",
    "lineyear62.append(epoch_2.decimalyear[0])\n",
    "linevlsr62.append(VLSR[0])\n",
    "line_62 = np.column_stack((lineyear62, linevlsr62))\n",
    "\n",
    "lineyear63 = []\n",
    "linevlsr63 = []\n",
    "lineyear63.append(df.epoch_year[3])\n",
    "linevlsr63.append(df.vlsr_kms[3])\n",
    "lineyear63.append(epoch_2.decimalyear[2])\n",
    "linevlsr63.append(VLSR[2])\n",
    "line_63 = np.column_stack((lineyear63, linevlsr63))\n",
    "\n",
    "lineyear74 = []\n",
    "linevlsr74 = []\n",
    "lineyear74.append(df.epoch_year[5])\n",
    "linevlsr74.append(df.vlsr_kms[5])\n",
    "lineyear74.append(epoch_2.decimalyear[4])\n",
    "linevlsr74.append(VLSR[4])\n",
    "line_74 = np.column_stack((lineyear74, linevlsr74))\n",
    "\n",
    "lineyear75 = []\n",
    "linevlsr75 = []\n",
    "lineyear75.append(df.epoch_year[6])\n",
    "linevlsr75.append(df.vlsr_kms[6])\n",
    "lineyear75.append(epoch_2.decimalyear[5])\n",
    "linevlsr75.append(VLSR[5])\n",
    "line_75 = np.column_stack((lineyear75, linevlsr75))\n",
    "\n",
    "lineyear76 = []\n",
    "linevlsr76 = []\n",
    "lineyear76.append(epoch_2.decimalyear[9])\n",
    "linevlsr76.append(VLSR[9])\n",
    "lineyear76.append(epoch_2.decimalyear[10])\n",
    "linevlsr76.append(VLSR[10])\n",
    "lineyear76.append(df.epoch_year[8])\n",
    "linevlsr76.append(df.vlsr_kms[8])\n",
    "line_76 = np.column_stack((lineyear76, linevlsr76))\n",
    "\n",
    "lineyear77 = []\n",
    "linevlsr77 = []\n",
    "lineyear77.append(epoch_2.decimalyear[19])\n",
    "linevlsr77.append(VLSR[19])\n",
    "lineyear77.append(epoch_2.decimalyear[21])\n",
    "linevlsr77.append(VLSR[21])\n",
    "lineyear77.append(epoch_2.decimalyear[22])\n",
    "linevlsr77.append(VLSR[22])\n",
    "lineyear77.append(df.epoch_year[11])\n",
    "linevlsr77.append(df.vlsr_kms[11])\n",
    "line_77 = np.column_stack((lineyear77, linevlsr77))\n",
    "\n",
    "lineyear98 = []\n",
    "linevlsr98 = []\n",
    "lineyear98.append(df.epoch_year[14])\n",
    "linevlsr98.append(df.vlsr_kms[14])\n",
    "lineyear98.append(epoch_2.decimalyear[26])\n",
    "linevlsr98.append(VLSR[26])\n",
    "line_98 = np.column_stack((lineyear98, linevlsr98))\n",
    "\n",
    "lineyear119 = []\n",
    "linevlsr119 = []\n",
    "lineyear119.append(df.epoch_year[15])\n",
    "linevlsr119.append(df.vlsr_kms[15])\n",
    "lineyear119.append(epoch_2.decimalyear[32])\n",
    "linevlsr119.append(VLSR[32])\n",
    "line_119 = np.column_stack((lineyear119, linevlsr119))"
   ]
  },
  {
   "cell_type": "code",
   "execution_count": 21,
   "metadata": {},
   "outputs": [
    {
     "data": {
      "text/plain": [
       "([51.5238986239,\n",
       "  48.9084722979,\n",
       "  47.60075913479999,\n",
       "  49.9203663095,\n",
       "  47.5887284623,\n",
       "  46.422909538599995,\n",
       "  47.5069724542,\n",
       "  46.02,\n",
       "  47.55,\n",
       "  45.6,\n",
       "  46.08,\n",
       "  45.66,\n",
       "  47.29,\n",
       "  49.92,\n",
       "  47.12],\n",
       " [2019.5835616438355,\n",
       "  2019.5835616438355,\n",
       "  2019.5835616438355,\n",
       "  2019.5835616438355,\n",
       "  2019.5835616438355,\n",
       "  2019.5835616438355,\n",
       "  2019.5835616438355,\n",
       "  2008.8142076502731,\n",
       "  2012.2568306010928,\n",
       "  2008.808743169399,\n",
       "  2008.808743169399,\n",
       "  2008.8142076502731,\n",
       "  2012.2568306010928,\n",
       "  2012.2568306010928,\n",
       "  2012.2568306010928])"
      ]
     },
     "execution_count": 21,
     "metadata": {},
     "output_type": "execute_result"
    }
   ],
   "source": [
    "# CA3 varibility data\n",
    "\n",
    "a = list(df.epoch_year[7:10])\n",
    "b = list(df.epoch_year[10:13])\n",
    "c = df.epoch_year[15]\n",
    "d = list(epoch_2.decimalyear[9:11])\n",
    "e = list(epoch_2.decimalyear[19:24])\n",
    "f = epoch_2.decimalyear[32]\n",
    "ab = a+b\n",
    "epoch = list(np.append(ab,c))\n",
    "epoch = epoch + d + e\n",
    "epoch = list(np.append(epoch,f))\n",
    "epoch\n",
    "\n",
    "a = list(df.vlsr_kms[7:10])\n",
    "b = list(df.vlsr_kms[10:13])\n",
    "c = df.vlsr_kms[15]\n",
    "d = VLSR[9:11]\n",
    "e = VLSR[19:24]\n",
    "f = VLSR[32]\n",
    "ab = a+b\n",
    "V = list(np.append(ab,c))\n",
    "V = V + d + e\n",
    "V = list(np.append(V,f))\n",
    "V, epoch"
   ]
  },
  {
   "cell_type": "code",
   "execution_count": 22,
   "metadata": {},
   "outputs": [
    {
     "ename": "TypeError",
     "evalue": "__init__() got an unexpected keyword argument 'title_fontsize'",
     "output_type": "error",
     "traceback": [
      "\u001b[0;31m---------------------------------------------------------------------------\u001b[0m",
      "\u001b[0;31mTypeError\u001b[0m                                 Traceback (most recent call last)",
      "\u001b[0;32m<ipython-input-22-ea91ad23a8f5>\u001b[0m in \u001b[0;36m<module>\u001b[0;34m()\u001b[0m\n\u001b[1;32m     53\u001b[0m \u001b[0m_\u001b[0m \u001b[0;34m=\u001b[0m \u001b[0max\u001b[0m\u001b[0;34m.\u001b[0m\u001b[0mset_ylabel\u001b[0m\u001b[0;34m(\u001b[0m\u001b[0;34m\"$\\\\nu_{LSR}$ [km s-1]\"\u001b[0m\u001b[0;34m,\u001b[0m \u001b[0mfontsize\u001b[0m \u001b[0;34m=\u001b[0m \u001b[0;36m18\u001b[0m\u001b[0;34m)\u001b[0m\u001b[0;34m\u001b[0m\u001b[0m\n\u001b[1;32m     54\u001b[0m \u001b[0mtick_fontsize\u001b[0m \u001b[0;34m=\u001b[0m \u001b[0;36m16\u001b[0m\u001b[0;34m\u001b[0m\u001b[0m\n\u001b[0;32m---> 55\u001b[0;31m \u001b[0max\u001b[0m\u001b[0;34m.\u001b[0m\u001b[0mlegend\u001b[0m\u001b[0;34m(\u001b[0m\u001b[0mtitle\u001b[0m\u001b[0;34m=\u001b[0m\u001b[0;34m'NH3 (J,K)'\u001b[0m\u001b[0;34m,\u001b[0m\u001b[0mfontsize\u001b[0m \u001b[0;34m=\u001b[0m \u001b[0;36m14\u001b[0m\u001b[0;34m,\u001b[0m\u001b[0mtitle_fontsize\u001b[0m\u001b[0;34m=\u001b[0m\u001b[0;36m14\u001b[0m\u001b[0;34m,\u001b[0m\u001b[0mloc\u001b[0m\u001b[0;34m=\u001b[0m\u001b[0;36m2\u001b[0m\u001b[0;34m)\u001b[0m\u001b[0;34m\u001b[0m\u001b[0m\n\u001b[0m\u001b[1;32m     56\u001b[0m \u001b[0max\u001b[0m\u001b[0;34m.\u001b[0m\u001b[0mtick_params\u001b[0m\u001b[0;34m(\u001b[0m\u001b[0maxis\u001b[0m\u001b[0;34m=\u001b[0m\u001b[0;34m'both'\u001b[0m\u001b[0;34m,\u001b[0m \u001b[0mwhich\u001b[0m\u001b[0;34m=\u001b[0m\u001b[0;34m'major'\u001b[0m\u001b[0;34m,\u001b[0m \u001b[0mlabelsize\u001b[0m\u001b[0;34m=\u001b[0m\u001b[0;36m14\u001b[0m\u001b[0;34m)\u001b[0m\u001b[0;34m\u001b[0m\u001b[0m\n\u001b[1;32m     57\u001b[0m \u001b[0max\u001b[0m\u001b[0;34m.\u001b[0m\u001b[0maxis\u001b[0m\u001b[0;34m(\u001b[0m\u001b[0;34m[\u001b[0m\u001b[0;36m2008\u001b[0m\u001b[0;34m,\u001b[0m\u001b[0;36m2021\u001b[0m\u001b[0;34m,\u001b[0m\u001b[0;36m53.5\u001b[0m\u001b[0;34m,\u001b[0m\u001b[0;36m57.2\u001b[0m\u001b[0;34m]\u001b[0m\u001b[0;34m)\u001b[0m\u001b[0;34m\u001b[0m\u001b[0m\n",
      "\u001b[0;32m/apps/python3/3.6.5/lib/python3.6/site-packages/matplotlib/axes/_axes.py\u001b[0m in \u001b[0;36mlegend\u001b[0;34m(self, *args, **kwargs)\u001b[0m\n\u001b[1;32m    498\u001b[0m         \u001b[0;32mif\u001b[0m \u001b[0mlen\u001b[0m\u001b[0;34m(\u001b[0m\u001b[0mextra_args\u001b[0m\u001b[0;34m)\u001b[0m\u001b[0;34m:\u001b[0m\u001b[0;34m\u001b[0m\u001b[0m\n\u001b[1;32m    499\u001b[0m             \u001b[0;32mraise\u001b[0m \u001b[0mTypeError\u001b[0m\u001b[0;34m(\u001b[0m\u001b[0;34m'legend only accepts two non-keyword arguments'\u001b[0m\u001b[0;34m)\u001b[0m\u001b[0;34m\u001b[0m\u001b[0m\n\u001b[0;32m--> 500\u001b[0;31m         \u001b[0mself\u001b[0m\u001b[0;34m.\u001b[0m\u001b[0mlegend_\u001b[0m \u001b[0;34m=\u001b[0m \u001b[0mmlegend\u001b[0m\u001b[0;34m.\u001b[0m\u001b[0mLegend\u001b[0m\u001b[0;34m(\u001b[0m\u001b[0mself\u001b[0m\u001b[0;34m,\u001b[0m \u001b[0mhandles\u001b[0m\u001b[0;34m,\u001b[0m \u001b[0mlabels\u001b[0m\u001b[0;34m,\u001b[0m \u001b[0;34m**\u001b[0m\u001b[0mkwargs\u001b[0m\u001b[0;34m)\u001b[0m\u001b[0;34m\u001b[0m\u001b[0m\n\u001b[0m\u001b[1;32m    501\u001b[0m         \u001b[0mself\u001b[0m\u001b[0;34m.\u001b[0m\u001b[0mlegend_\u001b[0m\u001b[0;34m.\u001b[0m\u001b[0m_remove_method\u001b[0m \u001b[0;34m=\u001b[0m \u001b[0;32mlambda\u001b[0m \u001b[0mh\u001b[0m\u001b[0;34m:\u001b[0m \u001b[0msetattr\u001b[0m\u001b[0;34m(\u001b[0m\u001b[0mself\u001b[0m\u001b[0;34m,\u001b[0m \u001b[0;34m'legend_'\u001b[0m\u001b[0;34m,\u001b[0m \u001b[0;32mNone\u001b[0m\u001b[0;34m)\u001b[0m\u001b[0;34m\u001b[0m\u001b[0m\n\u001b[1;32m    502\u001b[0m         \u001b[0;32mreturn\u001b[0m \u001b[0mself\u001b[0m\u001b[0;34m.\u001b[0m\u001b[0mlegend_\u001b[0m\u001b[0;34m\u001b[0m\u001b[0m\n",
      "\u001b[0;31mTypeError\u001b[0m: __init__() got an unexpected keyword argument 'title_fontsize'"
     ]
    },
    {
     "name": "stderr",
     "output_type": "stream",
     "text": [
      "/apps/python3/3.6.5/lib/python3.6/site-packages/matplotlib/font_manager.py:1320: UserWarning: findfont: Font family ['Times New Roman'] not found. Falling back to DejaVu Sans\n",
      "  (prop.get_family(), self.defaultFamily[fontext]))\n"
     ]
    },
    {
     "data": {
      "image/png": "[encoded data removed]",
      "text/plain": [
       "<matplotlib.figure.Figure at 0x2add069b8ef0>"
      ]
     },
     "metadata": {},
     "output_type": "display_data"
    }
   ],
   "source": [
    "fig, ax = plt.subplots(figsize=(8,6))\n",
    "\n",
    "ax = plt.subplot()\n",
    "\n",
    "plt.scatter(df.epoch_year[0:2], df.vlsr_kms[0:2], color=\"tab:blue\", marker = \"^\", label='(5,3)')\n",
    "plt.scatter(df.epoch_year[2], df.vlsr_kms[2], color=\"tab:orange\", marker = \"s\",label='(6,2)')\n",
    "plt.scatter(df.epoch_year[3:5], df.vlsr_kms[3:5], color=\"tab:green\", marker = \"p\", label='(6,3)')\n",
    "plt.scatter(df.epoch_year[5], df.vlsr_kms[5], color=\"tab:red\", marker = \"H\",label='(7,4)')\n",
    "plt.scatter(df.epoch_year[6], df.vlsr_kms[6], color=\"tab:purple\", marker = \"+\",label='(7,5)')\n",
    "plt.scatter(df.epoch_year[14], df.vlsr_kms[14], color=\"tab:brown\", marker = \"v\",label='(9,8)')\n",
    "\n",
    "x = 2\n",
    "y = 8\n",
    "plt.errorbar(df.epoch_year[0:2], df.vlsr_kms[0:2], yerr=df.vlsr_kms_error[0:2], color=\"tab:blue\", marker = \"^\",ls='none',elinewidth=x,capsize=y,)\n",
    "plt.errorbar(df.epoch_year[2], df.vlsr_kms[2], yerr=df.vlsr_kms_error[2],color=\"tab:orange\", marker = \"s\",ls='none',elinewidth=x,capsize=y,)\n",
    "plt.errorbar(df.epoch_year[3:5], df.vlsr_kms[3:5],yerr=df.vlsr_kms_error[3:5], color=\"tab:green\", marker = \"p\",ls='none',elinewidth=x,capsize=y,)\n",
    "plt.errorbar(df.epoch_year[5], df.vlsr_kms[5],yerr=df.vlsr_kms_error[5], color=\"tab:red\", marker = \"H\",ls='none',elinewidth=x,capsize=y,)\n",
    "plt.errorbar(df.epoch_year[6], df.vlsr_kms[6], yerr=df.vlsr_kms_error[6],color=\"tab:purple\", marker = \"+\",ls='none',elinewidth=x,capsize=y,)\n",
    "plt.errorbar(df.epoch_year[14], df.vlsr_kms[14],yerr=df.vlsr_kms_error[14], color=\"tab:brown\", marker = \"v\",ls='none',elinewidth=x,capsize=y,)\n",
    "\n",
    "plt.errorbar(epoch_2.decimalyear[1], VLSR[1], color=\"tab:blue\", marker = \"^\",ls='none', yerr=0.02,elinewidth=x,capsize=y,)\n",
    "plt.errorbar(epoch_2.decimalyear[0], VLSR[0], color=\"tab:orange\", marker = \"s\",ls='none', yerr=0.02,elinewidth=x,capsize=y,)\n",
    "plt.errorbar(epoch_2.decimalyear[2], VLSR[2], color=\"tab:green\", marker = \"p\",ls='none', yerr = 0.01,elinewidth=x,capsize=y,)\n",
    "plt.errorbar(epoch_2.decimalyear[4], VLSR[4], color=\"tab:red\", marker = \"H\",ls='none',yerr=0.05,elinewidth=x,capsize=y,)\n",
    "plt.errorbar(epoch_2.decimalyear[5], VLSR[5], color=\"tab:purple\", marker = \"+\",ls='none',yerr=0.02,elinewidth=x,capsize=y,)\n",
    "plt.errorbar(epoch_2.decimalyear[26], VLSR[26], color=\"tab:brown\", marker = \"v\",ls='none', yerr=0.08,elinewidth=x,capsize=y,)\n",
    "\n",
    "plt.plot(line_53[:,0], line_53[:,1], color='tab:blue')\n",
    "plt.plot(line_62[:,0], line_62[:,1], color='tab:orange')\n",
    "plt.plot(line_63[:,0], line_63[:,1], color='tab:green')\n",
    "plt.plot(line_74[:,0], line_74[:,1], color='tab:red')\n",
    "plt.plot(line_75[:,0], line_75[:,1], color='tab:purple')\n",
    "plt.plot(line_98[:,0], line_98[:,1], color='tab:brown')\n",
    "\n",
    "import matplotlib.pyplot as plt\n",
    "from scipy.optimize import curve_fit\n",
    "\n",
    "def func(x, m, b):\n",
    "    # y = mx + b\n",
    "    return (m*x) + b\n",
    "\n",
    "popt, pcov = curve_fit(func, epochd2, VLSRd2)\n",
    "popt\n",
    "\n",
    "xdata = np.linspace(2011,2020.5,100)\n",
    "# plt.plot(xdata, func(xdata, *popt),\"black\", linestyle = '--', alpha=0.3)\n",
    "# error = 0.1\n",
    "# ax.fill_between(xdata, func(xdata, *popt) + error,func(xdata, *popt) -error, alpha=0.05, facecolor = 'black')\n",
    "ax.text(0.05,0.05,'%0f ± blank km s$^{-1}$ yr$^{-1}$' % popt[0], fontsize = 16, fontname='Times New Roman', transform=ax.transAxes)\n",
    "\n",
    "\n",
    "_ = ax.set_xlabel(f\"Epoch\", fontsize = 18)    \n",
    "_ = ax.set_ylabel(\"$\\\\nu_{LSR}$ [km s-1]\", fontsize = 18)\n",
    "tick_fontsize = 16\n",
    "ax.legend(title='NH3 (J,K)',fontsize = 14,title_fontsize=14,loc=2)\n",
    "ax.tick_params(axis='both', which='major', labelsize=14)\n",
    "ax.axis([2008,2021,53.5,57.2])\n",
    "\n",
    "#test"
   ]
  },
  {
   "cell_type": "code",
   "execution_count": 24,
   "metadata": {},
   "outputs": [
    {
     "name": "stdout",
     "output_type": "stream",
     "text": [
      "fit: m=0.207693, b=-370.804257\n"
     ]
    },
    {
     "ename": "TypeError",
     "evalue": "__init__() got an unexpected keyword argument 'title_fontsize'",
     "output_type": "error",
     "traceback": [
      "\u001b[0;31m---------------------------------------------------------------------------\u001b[0m",
      "\u001b[0;31mTypeError\u001b[0m                                 Traceback (most recent call last)",
      "\u001b[0;32m<ipython-input-24-f8bd46863108>\u001b[0m in \u001b[0;36m<module>\u001b[0;34m()\u001b[0m\n\u001b[1;32m     50\u001b[0m \u001b[0m_\u001b[0m \u001b[0;34m=\u001b[0m \u001b[0max\u001b[0m\u001b[0;34m.\u001b[0m\u001b[0mset_ylabel\u001b[0m\u001b[0;34m(\u001b[0m\u001b[0;34m\"$\\\\nu_{LSR}$ [km s-1]\"\u001b[0m\u001b[0;34m,\u001b[0m \u001b[0mfontsize\u001b[0m \u001b[0;34m=\u001b[0m \u001b[0;36m18\u001b[0m\u001b[0;34m)\u001b[0m\u001b[0;34m\u001b[0m\u001b[0m\n\u001b[1;32m     51\u001b[0m \u001b[0mtick_fontsize\u001b[0m \u001b[0;34m=\u001b[0m \u001b[0;36m16\u001b[0m\u001b[0;34m\u001b[0m\u001b[0m\n\u001b[0;32m---> 52\u001b[0;31m \u001b[0max\u001b[0m\u001b[0;34m.\u001b[0m\u001b[0mlegend\u001b[0m\u001b[0;34m(\u001b[0m\u001b[0mtitle\u001b[0m\u001b[0;34m=\u001b[0m\u001b[0;34m'NH3 (J,K)'\u001b[0m\u001b[0;34m,\u001b[0m\u001b[0mfontsize\u001b[0m \u001b[0;34m=\u001b[0m \u001b[0;36m14\u001b[0m\u001b[0;34m,\u001b[0m\u001b[0mtitle_fontsize\u001b[0m\u001b[0;34m=\u001b[0m\u001b[0;36m14\u001b[0m\u001b[0;34m,\u001b[0m\u001b[0mloc\u001b[0m\u001b[0;34m=\u001b[0m\u001b[0;36m2\u001b[0m\u001b[0;34m)\u001b[0m\u001b[0;34m\u001b[0m\u001b[0m\n\u001b[0m\u001b[1;32m     53\u001b[0m \u001b[0max\u001b[0m\u001b[0;34m.\u001b[0m\u001b[0mtick_params\u001b[0m\u001b[0;34m(\u001b[0m\u001b[0maxis\u001b[0m\u001b[0;34m=\u001b[0m\u001b[0;34m'both'\u001b[0m\u001b[0;34m,\u001b[0m \u001b[0mwhich\u001b[0m\u001b[0;34m=\u001b[0m\u001b[0;34m'major'\u001b[0m\u001b[0;34m,\u001b[0m \u001b[0mlabelsize\u001b[0m\u001b[0;34m=\u001b[0m\u001b[0;36m14\u001b[0m\u001b[0;34m)\u001b[0m\u001b[0;34m\u001b[0m\u001b[0m\n\u001b[1;32m     54\u001b[0m \u001b[0max\u001b[0m\u001b[0;34m.\u001b[0m\u001b[0maxis\u001b[0m\u001b[0;34m(\u001b[0m\u001b[0;34m[\u001b[0m\u001b[0;36m2008\u001b[0m\u001b[0;34m,\u001b[0m\u001b[0;36m2021\u001b[0m\u001b[0;34m,\u001b[0m\u001b[0;36m45\u001b[0m\u001b[0;34m,\u001b[0m\u001b[0;36m52\u001b[0m\u001b[0;34m]\u001b[0m\u001b[0;34m)\u001b[0m\u001b[0;34m\u001b[0m\u001b[0m\n",
      "\u001b[0;32m/apps/python3/3.6.5/lib/python3.6/site-packages/matplotlib/axes/_axes.py\u001b[0m in \u001b[0;36mlegend\u001b[0;34m(self, *args, **kwargs)\u001b[0m\n\u001b[1;32m    498\u001b[0m         \u001b[0;32mif\u001b[0m \u001b[0mlen\u001b[0m\u001b[0;34m(\u001b[0m\u001b[0mextra_args\u001b[0m\u001b[0;34m)\u001b[0m\u001b[0;34m:\u001b[0m\u001b[0;34m\u001b[0m\u001b[0m\n\u001b[1;32m    499\u001b[0m             \u001b[0;32mraise\u001b[0m \u001b[0mTypeError\u001b[0m\u001b[0;34m(\u001b[0m\u001b[0;34m'legend only accepts two non-keyword arguments'\u001b[0m\u001b[0;34m)\u001b[0m\u001b[0;34m\u001b[0m\u001b[0m\n\u001b[0;32m--> 500\u001b[0;31m         \u001b[0mself\u001b[0m\u001b[0;34m.\u001b[0m\u001b[0mlegend_\u001b[0m \u001b[0;34m=\u001b[0m \u001b[0mmlegend\u001b[0m\u001b[0;34m.\u001b[0m\u001b[0mLegend\u001b[0m\u001b[0;34m(\u001b[0m\u001b[0mself\u001b[0m\u001b[0;34m,\u001b[0m \u001b[0mhandles\u001b[0m\u001b[0;34m,\u001b[0m \u001b[0mlabels\u001b[0m\u001b[0;34m,\u001b[0m \u001b[0;34m**\u001b[0m\u001b[0mkwargs\u001b[0m\u001b[0;34m)\u001b[0m\u001b[0;34m\u001b[0m\u001b[0m\n\u001b[0m\u001b[1;32m    501\u001b[0m         \u001b[0mself\u001b[0m\u001b[0;34m.\u001b[0m\u001b[0mlegend_\u001b[0m\u001b[0;34m.\u001b[0m\u001b[0m_remove_method\u001b[0m \u001b[0;34m=\u001b[0m \u001b[0;32mlambda\u001b[0m \u001b[0mh\u001b[0m\u001b[0;34m:\u001b[0m \u001b[0msetattr\u001b[0m\u001b[0;34m(\u001b[0m\u001b[0mself\u001b[0m\u001b[0;34m,\u001b[0m \u001b[0;34m'legend_'\u001b[0m\u001b[0;34m,\u001b[0m \u001b[0;32mNone\u001b[0m\u001b[0;34m)\u001b[0m\u001b[0;34m\u001b[0m\u001b[0m\n\u001b[1;32m    502\u001b[0m         \u001b[0;32mreturn\u001b[0m \u001b[0mself\u001b[0m\u001b[0;34m.\u001b[0m\u001b[0mlegend_\u001b[0m\u001b[0;34m\u001b[0m\u001b[0m\n",
      "\u001b[0;31mTypeError\u001b[0m: __init__() got an unexpected keyword argument 'title_fontsize'"
     ]
    },
    {
     "name": "stderr",
     "output_type": "stream",
     "text": [
      "/apps/python3/3.6.5/lib/python3.6/site-packages/matplotlib/font_manager.py:1320: UserWarning: findfont: Font family ['Times New Roman'] not found. Falling back to DejaVu Sans\n",
      "  (prop.get_family(), self.defaultFamily[fontext]))\n"
     ]
    },
    {
     "data": {
      "image/png": "[encoded data removed]",
      "text/plain": [
       "<matplotlib.figure.Figure at 0x2add08d496a0>"
      ]
     },
     "metadata": {},
     "output_type": "display_data"
    }
   ],
   "source": [
    "fig, ax = plt.subplots(figsize=(8,6))\n",
    "\n",
    "ax = plt.subplot()\n",
    "\n",
    "plt.scatter(df.epoch_year[7:10], df.vlsr_kms[7:10], color=\"tab:cyan\", marker = \"*\", label='(7,6)')\n",
    "plt.scatter(df.epoch_year[10:13], df.vlsr_kms[10:13], color=\"tab:pink\", marker = \"x\", label='(7,7)')\n",
    "plt.scatter(df.epoch_year[15], df.vlsr_kms[15], color=\"tab:olive\", marker = \"8\", label='(11,9)')\n",
    "\n",
    "x = 2\n",
    "y = 8\n",
    "plt.errorbar(df.epoch_year[15], df.vlsr_kms[15], yerr=df.vlsr_kms_error[15], color=\"tab:olive\",marker = \"8\",ls='none',elinewidth=x,capsize=y,)\n",
    "plt.errorbar(df.epoch_year[7:10], df.vlsr_kms[7:10], yerr=df.vlsr_kms_error[7:10],color=\"tab:cyan\", marker = \"*\",ls='none',elinewidth=x,capsize=y,)\n",
    "plt.errorbar(df.epoch_year[10:13], df.vlsr_kms[10:13], yerr=df.vlsr_kms_error[10:13],color=\"tab:pink\", marker = \"x\",ls='none',elinewidth=x,capsize=y,)\n",
    "\n",
    "plt.scatter(epoch_2.decimalyear[9:11], VLSR[9:11], color=\"tab:cyan\", marker = \"*\")\n",
    "plt.scatter(epoch_2.decimalyear[19:24], VLSR[19:24], color=\"tab:pink\", marker = \"x\")\n",
    "plt.scatter(epoch_2.decimalyear[32], VLSR[32], color=\"tab:olive\", marker = \"8\")\n",
    "\n",
    "plt.errorbar(epoch_2.decimalyear[9:11], VLSR[9:11], color=\"tab:cyan\", marker = \"*\",ls='none',yerr=[0.01,0.02],elinewidth=x,capsize=y,)\n",
    "plt.errorbar(epoch_2.decimalyear[19:24],VLSR[19:24], color=\"tab:pink\", marker = \"x\",ls='none',yerr=[0.02,0.01,0.05,0.11,0.11],elinewidth=x,capsize=y,)\n",
    "plt.errorbar(epoch_2.decimalyear[32], VLSR[32], color=\"tab:olive\", marker = \"8\",ls='none', yerr=0.01,elinewidth=x,capsize=y,)\n",
    "\n",
    "plt.plot(line_119[:,0], line_119[:,1], color='tab:olive')\n",
    "plt.plot(line_76[:,0], line_76[:,1], color='tab:cyan')\n",
    "plt.plot(line_77[:,0], line_77[:,1], color='tab:pink')\n",
    "\n",
    "varibility = np.concatenate(([df.epoch_year[7:10],df.epoch_year[10:13],df.epoch_year[15],\n",
    "                               epoch_2.decimalyear[9:11],epoch_2.decimalyear[19:24],epoch_2.decimalyear[32]],\n",
    "                              [df.vlsr_kms[7:10],df.vlsr_kms[10:13],df.vlsr_kms[15],\n",
    "                              VLSR[9:11],VLSR[19:24],VLSR[32]]))\n",
    "\n",
    "import matplotlib.pyplot as plt\n",
    "from scipy.optimize import curve_fit\n",
    "\n",
    "def func(x, m, b):\n",
    "    # y = mx + b\n",
    "    return (m*x) + b\n",
    "\n",
    "popt, pcov = curve_fit(func, epoch, V)\n",
    "popt\n",
    "\n",
    "xdata = np.linspace(2008,2020.5,50)\n",
    "# plt.plot(xdata, func(xdata, *popt),\"black\", linestyle = '--', alpha=0.3)\n",
    "# error = 0.1\n",
    "# ax.fill_between(xdata, func(xdata, *popt) + error,func(xdata, *popt) -error, alpha=0.05, facecolor = 'black')\n",
    "ax.text(0.4,0.05,'+%0f ± blank km s$^{-1}$ yr$^{-1}$' % popt[0], fontsize = 16, fontname='Times New Roman', transform=ax.transAxes)\n",
    "\n",
    "print('fit: m=%0f, b=%0f' % tuple(popt))\n",
    "_ = ax.set_xlabel(f\"Epoch\", fontsize = 18)    \n",
    "_ = ax.set_ylabel(\"$\\\\nu_{LSR}$ [km s-1]\", fontsize = 18)\n",
    "tick_fontsize = 16\n",
    "ax.legend(title='NH3 (J,K)',fontsize = 14,title_fontsize=14,loc=2)\n",
    "ax.tick_params(axis='both', which='major', labelsize=14)\n",
    "ax.axis([2008,2021,45,52])\n",
    "\n"
   ]
  },
  {
   "cell_type": "code",
   "execution_count": null,
   "metadata": {},
   "outputs": [],
   "source": []
  }
 ],
 "metadata": {
  "kernelspec": {
   "display_name": "Python 3",
   "language": "python",
   "name": "python3"
  },
  "language_info": {
   "codemirror_mode": {
    "name": "ipython",
    "version": 3
   },
   "file_extension": ".py",
   "mimetype": "text/x-python",
   "name": "python",
   "nbconvert_exporter": "python",
   "pygments_lexer": "ipython3",
   "version": "3.6.5"
  },
  "orig_nbformat": 4,
  "vscode": {
   "interpreter": {
    "hash": "680d622a6e74a57bbf4d2b6e88aa901c061924fd2abe0d0fee7c181bd36b04a9"
   }
  }
 },
 "nbformat": 4,
 "nbformat_minor": 2
}
