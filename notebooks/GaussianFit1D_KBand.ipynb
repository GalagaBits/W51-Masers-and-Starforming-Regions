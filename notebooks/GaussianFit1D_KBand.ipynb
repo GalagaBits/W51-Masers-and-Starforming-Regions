{
 "cells": [
  {
   "cell_type": "markdown",
   "metadata": {},
   "source": [
    "# KBand Spectral Fitting"
   ]
  },
  {
   "cell_type": "code",
   "execution_count": 1,
   "metadata": {},
   "outputs": [
    {
     "name": "stderr",
     "output_type": "stream",
     "text": [
      "block_reduce was moved to the astropy.nddata.blocks module.  Please update your import statement.\n"
     ]
    }
   ],
   "source": [
    "import pyspeckit\n",
    "from spectral_cube import SpectralCube\n",
    "#Save gaussianfit\n",
    "def saveplotfig_gaussianfit():\n",
    "    answer = None \n",
    "    while answer not in (\"yes\", \"no\"): \n",
    "        answer = input(\"Save the gaussian fit (yes or no)?\") \n",
    "        if answer == \"yes\": \n",
    "            sp.plotter.savefig(directory1+field+'_spw_'+str(spw)+'_GaussianFit1D_V1.3.png')\n",
    "            print('File saved.')\n",
    "        \n",
    "#Save residual        \n",
    "def saveplotfig_residual():\n",
    "    answer = None \n",
    "    while answer not in (\"yes\", \"no\"): \n",
    "        answer = input(\"Save the residual (yes or no)?\") \n",
    "        if answer == \"yes\": \n",
    "            pl.savefig(directory1+field+'_spw_'+str(spw)+'_GaussianFit1D_residual_V1.3.png')\n",
    "            print('File saved.')\n",
    "            "
   ]
  },
  {
   "cell_type": "markdown",
   "metadata": {},
   "source": [
    "### SPW 09 W51North_KBand_spw_09_733_rough_01.image.fits"
   ]
  },
  {
   "cell_type": "code",
   "execution_count": null,
   "metadata": {},
   "outputs": [
    {
     "name": "stderr",
     "output_type": "stream",
     "text": [
      "Cube is a Stokes cube, returning spectral cube for I component\n",
      "WARNING: No header given.  Creating an empty one.\n"
     ]
    }
   ],
   "source": [
    "cube = SpectralCube.read('/orange/adamginsburg/w51/vla/19A-254/derod/W51North_KBand_spw_09_733_rough_01.image.fits', format='fits')\n",
    "\n",
    "import pylab as pl\n",
    "pl.style.use('default')\n",
    "\n",
    "#Pixel location (x,y)\n",
    "y, x = 765, 788\n",
    "\n",
    "sp = pyspeckit.Spectrum(xarr=cube.spectral_axis, data=cube[:, y, x])\n",
    "sp.plotter(color='black')\n",
    "\n",
    "#Saving methods\n",
    "field='W51North_KBand'\n",
    "spw=9\n",
    "directory1 = '/orange/adamginsburg/w51/vla/19A-254/derod/gaussianplots/'\n",
    "\n",
    "            \n",
    "from astropy import units as u\n",
    "\n",
    "#Plot the gassiuan fits in to each peak in the spectra\n",
    "fig = pl.figure(figsize=(12,8))\n",
    "sp.plotter(color='black', xmin=23.6885*u.GHz, xmax=23.6935*u.GHz, figure=fig)\n",
    "\n",
    "sp.specfit(guesses=[0.35, 23.6906e9, 0.00001e9], linewidth=1.5)\n",
    "sp.specfit(guesses=[0.35, 23.6906e9, 0.00001e9], linewidth=1.5)\n",
    "\n",
    "\n",
    "sp.specfit.plot_fit(lw=1.0, composite_lw=1.8, show_components=True)\n",
    "# saveplotfig_gaussianfit()\n",
    "\n",
    "# #Plot the residuals of the gassiuan fits\n",
    "# sp.specfit.plotresiduals(color='black', zeroline=True)\n",
    "# pl.ylim(-0.05, 0.05)\n",
    "# # saveplotfig_residual()"
   ]
  },
  {
   "cell_type": "code",
   "execution_count": null,
   "metadata": {},
   "outputs": [],
   "source": []
  }
 ],
 "metadata": {
  "kernelspec": {
   "display_name": "UFRC Python-3.8",
   "language": "python",
   "name": "python3-3.8-ufrc"
  },
  "language_info": {
   "codemirror_mode": {
    "name": "ipython",
    "version": 3
   },
   "file_extension": ".py",
   "mimetype": "text/x-python",
   "name": "python",
   "nbconvert_exporter": "python",
   "pygments_lexer": "ipython3",
   "version": "3.8.5"
  }
 },
 "nbformat": 4,
 "nbformat_minor": 4
}
