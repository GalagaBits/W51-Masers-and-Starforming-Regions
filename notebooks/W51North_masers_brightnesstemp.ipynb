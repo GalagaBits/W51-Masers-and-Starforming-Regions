{
 "cells": [
  {
   "cell_type": "markdown",
   "metadata": {},
   "source": [
    "# W51North Masers Brightness Temperatures"
   ]
  },
  {
   "cell_type": "code",
   "execution_count": 2,
   "metadata": {},
   "outputs": [],
   "source": [
    "from astropy import units as u\n",
    "from spectral_cube import SpectralCube\n",
    "import numpy as np\n",
    "import radio_beam"
   ]
  },
  {
   "cell_type": "code",
   "execution_count": 3,
   "metadata": {},
   "outputs": [
    {
     "name": "stdout",
     "output_type": "stream",
     "text": [
      "/orange/adamginsburg/w51/vla/19A-254/derod\n"
     ]
    }
   ],
   "source": [
    "cd /orange/adamginsburg/w51/vla/19A-254/derod/"
   ]
  },
  {
   "cell_type": "markdown",
   "metadata": {},
   "source": [
    "## (5,3)\n",
    "```\n",
    "W51North_spw_44_corrected2.image\n",
    "```\n",
    "Median area beam = 0.0826223\" X 0.0802516\", 55.4768 deg\n",
    "rest freq = 21.285416 GHz\n",
    "Flux = 0.34 Jy\n",
    "FWHM = 0.57 km/s"
   ]
  },
  {
   "cell_type": "code",
   "execution_count": 59,
   "metadata": {},
   "outputs": [
    {
     "data": {
      "text/latex": [
       "$425723.78 \\; \\mathrm{K}$"
      ],
      "text/plain": [
       "<Quantity 425723.78443978 K>"
      ]
     },
     "execution_count": 59,
     "metadata": {},
     "output_type": "execute_result"
    }
   ],
   "source": [
    "bmaj, bmin = 0.0826223*u.arcsec, 0.0802516*u.arcsec\n",
    "fwhm_to_sigma = 0.57/ (8*np.log(2))**0.5\n",
    "beam_area = 2.*np.pi*(bmaj*bmin*fwhm_to_sigma**2)\n",
    "freq = 21.285416*u.GHz\n",
    "equiv = u.brightness_temperature(freq)\n",
    "((0.34*u.Jy/beam_area).to(u.K, equivalencies=equiv))"
   ]
  },
  {
   "cell_type": "markdown",
   "metadata": {},
   "source": [
    "## (6,2)\n",
    "```\n",
    "W51North_spw_50_corrected2.image\n",
    "```\n",
    "Median area beam = 0.0942159\" X 0.0904248\", 37.6928 deg\n",
    "rest freq = 18.884645 GHz\n",
    "Flux = 0.03 Jy\n",
    "FWHM = 1.44 km/s"
   ]
  },
  {
   "cell_type": "code",
   "execution_count": 58,
   "metadata": {},
   "outputs": [
    {
     "data": {
      "text/latex": [
       "$5819.4352 \\; \\mathrm{K}$"
      ],
      "text/plain": [
       "<Quantity 5819.43518697 K>"
      ]
     },
     "execution_count": 58,
     "metadata": {},
     "output_type": "execute_result"
    }
   ],
   "source": [
    "bmaj, bmin = 0.0942159*u.arcsec, 0.0904248*u.arcsec\n",
    "fwhm_to_sigma = 1.44/ (8*np.log(2))**0.5\n",
    "beam_area = 2.*np.pi*(bmaj*bmin*fwhm_to_sigma**2)\n",
    "freq = 18.884645*u.GHz\n",
    "equiv = u.brightness_temperature(freq)\n",
    "((0.03*u.Jy/beam_area).to(u.K, equivalencies=equiv))"
   ]
  },
  {
   "cell_type": "markdown",
   "metadata": {},
   "source": [
    "## (6,3)\n",
    "```\n",
    "W51North_spw_56_corrected2.image\n",
    "```\n",
    "Median area beam = 0.0899235\" X 0.0856082\", 44.1618 deg\n",
    "rest freq = 19.758046 GHz\n",
    "Flux = 0.71 Jy\n",
    "FWHM = 0.61 km/s"
   ]
  },
  {
   "cell_type": "code",
   "execution_count": 5,
   "metadata": {},
   "outputs": [
    {
     "data": {
      "text/latex": [
       "$775954.22 \\; \\mathrm{K}$"
      ],
      "text/plain": [
       "<Quantity 775954.2211643 K>"
      ]
     },
     "execution_count": 5,
     "metadata": {},
     "output_type": "execute_result"
    }
   ],
   "source": [
    "bmaj, bmin = 0.0899235*u.arcsec, 0.0856082*u.arcsec\n",
    "fwhm_to_sigma = 0.61/ (8*np.log(2))**0.5\n",
    "beam_area = 2.*np.pi*(bmaj*bmin*fwhm_to_sigma**2)\n",
    "freq = 19.758046*u.GHz\n",
    "equiv = u.brightness_temperature(freq)\n",
    "((0.71*u.Jy/beam_area).to(u.K, equivalencies=equiv))"
   ]
  },
  {
   "cell_type": "markdown",
   "metadata": {},
   "source": [
    "## (7,4)\n",
    "```\n",
    "W51North_spw_53_corrected6.image\n",
    "```\n",
    "Median area beam = 0.0925634\" X 0.0881948\", 45.0358 deg\n",
    "rest freq = 19.21887615 GHz\n",
    "Flux = 0.01 Jy\n",
    "FWHM = 3.60 km/s"
   ]
  },
  {
   "cell_type": "code",
   "execution_count": 67,
   "metadata": {},
   "outputs": [
    {
     "data": {
      "text/latex": [
       "$1563.6542 \\; \\mathrm{K}$"
      ],
      "text/plain": [
       "<Quantity 1563.65422211 K>"
      ]
     },
     "execution_count": 67,
     "metadata": {},
     "output_type": "execute_result"
    }
   ],
   "source": [
    "bmaj, bmin = 0.0925634*u.arcsec, 0.0881948*u.arcsec\n",
    "fwhm_to_sigma = 3.60/ (8*np.log(2))**0.5\n",
    "beam_area = 2.*np.pi*(bmaj*bmin*fwhm_to_sigma**2)\n",
    "freq = 19.21887615*u.GHz\n",
    "equiv = u.brightness_temperature(freq)\n",
    "((0.05*u.Jy/beam_area).to(u.K, equivalencies=equiv))"
   ]
  },
  {
   "cell_type": "markdown",
   "metadata": {},
   "source": [
    "## (7,5)\n",
    "```\n",
    "W51North_spw_38_corrected2.image\n",
    "```\n",
    "Median area beam = 0.0841\" X 0.0819502\", 49.916 deg\n",
    "rest freq = 20.80521481 GHz\n",
    "Flux = 1.38 Jy\n",
    "FWHM = 0.85 km/s"
   ]
  },
  {
   "cell_type": "code",
   "execution_count": 6,
   "metadata": {},
   "outputs": [
    {
     "data": {
      "text/latex": [
       "$782464.76 \\; \\mathrm{K}$"
      ],
      "text/plain": [
       "<Quantity 782464.75878467 K>"
      ]
     },
     "execution_count": 6,
     "metadata": {},
     "output_type": "execute_result"
    }
   ],
   "source": [
    "bmaj, bmin = 0.0841*u.arcsec, 0.0819502*u.arcsec\n",
    "fwhm_to_sigma = 0.85/ (8*np.log(2))**0.5\n",
    "beam_area = 2.*np.pi*(bmaj*bmin*fwhm_to_sigma**2)\n",
    "freq = 20.80521481*u.GHz\n",
    "equiv = u.brightness_temperature(freq)\n",
    "((1.38*u.Jy/beam_area).to(u.K, equivalencies=equiv))"
   ]
  },
  {
   "cell_type": "markdown",
   "metadata": {},
   "source": [
    "## (7,6)\n",
    "```\n",
    "W51North_spw_6_corrected2.image\n",
    "```\n",
    "Median area beam = 0.106271\" X 0.0588361\", 47.7306 deg\n",
    "rest freq = 22.924940 GHz\n",
    "Flux = 0.09 Jy\n",
    "FWHM = 1.12 km/s"
   ]
  },
  {
   "cell_type": "code",
   "execution_count": 7,
   "metadata": {},
   "outputs": [
    {
     "data": {
      "text/latex": [
       "$409149.43 \\; \\mathrm{K}$"
      ],
      "text/plain": [
       "<Quantity 409149.43380162 K>"
      ]
     },
     "execution_count": 7,
     "metadata": {},
     "output_type": "execute_result"
    }
   ],
   "source": [
    "bmaj, bmin = 0.106271*u.arcsec, 0.0588361*u.arcsec\n",
    "fwhm_to_sigma = 1.12/ (8*np.log(2))**0.5\n",
    "beam_area = 2.*np.pi*(bmaj*bmin*fwhm_to_sigma**2)\n",
    "freq = 22.924940*u.GHz\n",
    "equiv = u.brightness_temperature(freq)\n",
    "((1.38*u.Jy/beam_area).to(u.K, equivalencies=equiv))"
   ]
  },
  {
   "cell_type": "markdown",
   "metadata": {},
   "source": [
    "## (7,7)\n",
    "```\n",
    "W51North_spw_28_corrected29.image\n",
    "```\n",
    "Median area beam = 0.0686939\" X 0.0657189\", 54.8896 deg\n",
    "rest freq = 25.715141 GHz\n",
    "Flux = 0.49 Jy\n",
    "FWHM = 0.81 km/s"
   ]
  },
  {
   "cell_type": "code",
   "execution_count": 8,
   "metadata": {},
   "outputs": [
    {
     "data": {
      "text/latex": [
       "$305741.04 \\; \\mathrm{K}$"
      ],
      "text/plain": [
       "<Quantity 305741.03873127 K>"
      ]
     },
     "execution_count": 8,
     "metadata": {},
     "output_type": "execute_result"
    }
   ],
   "source": [
    "bmaj, bmin = 0.0686939*u.arcsec, 0.0657189*u.arcsec\n",
    "fwhm_to_sigma = 0.81/ (8*np.log(2))**0.5\n",
    "beam_area = 2.*np.pi*(bmaj*bmin*fwhm_to_sigma**2)\n",
    "freq = 25.715141*u.GHz\n",
    "equiv = u.brightness_temperature(freq)\n",
    "((0.49*u.Jy/beam_area).to(u.K, equivalencies=equiv))"
   ]
  },
  {
   "cell_type": "markdown",
   "metadata": {},
   "source": [
    "## (8,5)\n",
    "```\n",
    "W51North_spw_48_corrected2.image\n",
    "```\n",
    "Median area beam = 0.0949708\" X 0.0906183\", 37.9407 deg\n",
    "rest freq = 18.8088861 GHz\n",
    "Flux = 0.09 Jy\n",
    "FWHM = 0.65 km/s"
   ]
  },
  {
   "cell_type": "code",
   "execution_count": 10,
   "metadata": {},
   "outputs": [
    {
     "data": {
      "text/latex": [
       "$85506.201 \\; \\mathrm{K}$"
      ],
      "text/plain": [
       "<Quantity 85506.20068119 K>"
      ]
     },
     "execution_count": 10,
     "metadata": {},
     "output_type": "execute_result"
    }
   ],
   "source": [
    "bmaj, bmin = 0.0949708*u.arcsec, 0.0906183*u.arcsec\n",
    "fwhm_to_sigma = 0.65/ (8*np.log(2))**0.5\n",
    "beam_area = 2.*np.pi*(bmaj*bmin*fwhm_to_sigma**2)\n",
    "freq = 18.8088861*u.GHz\n",
    "equiv = u.brightness_temperature(freq)\n",
    "((0.09*u.Jy/beam_area).to(u.K, equivalencies=equiv))"
   ]
  },
  {
   "cell_type": "markdown",
   "metadata": {},
   "source": [
    "## (9,8)\n",
    "```\n",
    "W51North_spw_8_corrected9.image\n",
    "```\n",
    "Median area beam = 0.0934211\" X 0.082913\", -4.19941 deg\n",
    "rest freq = 23.657471 GHz\n",
    "Flux = 0.13 Jy\n",
    "FWHM = 0.60 km/s"
   ]
  },
  {
   "cell_type": "code",
   "execution_count": 11,
   "metadata": {},
   "outputs": [
    {
     "data": {
      "text/latex": [
       "$101800.66 \\; \\mathrm{K}$"
      ],
      "text/plain": [
       "<Quantity 101800.65829133 K>"
      ]
     },
     "execution_count": 11,
     "metadata": {},
     "output_type": "execute_result"
    }
   ],
   "source": [
    "bmaj, bmin = 0.0934211*u.arcsec, 0.082913*u.arcsec\n",
    "fwhm_to_sigma = 0.60/ (8*np.log(2))**0.5\n",
    "beam_area = 2.*np.pi*(bmaj*bmin*fwhm_to_sigma**2)\n",
    "freq = 23.657471*u.GHz\n",
    "equiv = u.brightness_temperature(freq)\n",
    "((0.13*u.Jy/beam_area).to(u.K, equivalencies=equiv))"
   ]
  },
  {
   "cell_type": "markdown",
   "metadata": {},
   "source": [
    "## (11,9) \n",
    "```\n",
    "W51North_spw_41_corrected2.image\n",
    "```\n",
    "median beam average: 0.0829608\" X 0.0808582\"\n",
    "rest freq: 21.070666 GHz\n",
    "Flux: 0.35 Jy\n",
    "FWHM: 0.93"
   ]
  },
  {
   "cell_type": "code",
   "execution_count": 68,
   "metadata": {},
   "outputs": [
    {
     "data": {
      "text/latex": [
       "$166059.07 \\; \\mathrm{K}$"
      ],
      "text/plain": [
       "<Quantity 166059.06729987 K>"
      ]
     },
     "execution_count": 68,
     "metadata": {},
     "output_type": "execute_result"
    }
   ],
   "source": [
    "bmaj, bmin = 0.0829608*u.arcsec, 0.0808582*u.arcsec\n",
    "fwhm_to_sigma = 0.93/ (8*np.log(2))**0.5\n",
    "beam_area = 2.*np.pi*(bmaj*bmin*fwhm_to_sigma**2)\n",
    "freq = 21.070666*u.GHz\n",
    "equiv = u.brightness_temperature(freq)\n",
    "((0.35*u.Jy/beam_area).to(u.K, equivalencies=equiv))"
   ]
  },
  {
   "cell_type": "code",
   "execution_count": null,
   "metadata": {},
   "outputs": [],
   "source": []
  }
 ],
 "metadata": {
  "kernelspec": {
   "display_name": "UFRC Python-3.8",
   "language": "python",
   "name": "python3-3.8-ufrc"
  },
  "language_info": {
   "codemirror_mode": {
    "name": "ipython",
    "version": 3
   },
   "file_extension": ".py",
   "mimetype": "text/x-python",
   "name": "python",
   "nbconvert_exporter": "python",
   "pygments_lexer": "ipython3",
   "version": "3.8.5"
  }
 },
 "nbformat": 4,
 "nbformat_minor": 4
}
