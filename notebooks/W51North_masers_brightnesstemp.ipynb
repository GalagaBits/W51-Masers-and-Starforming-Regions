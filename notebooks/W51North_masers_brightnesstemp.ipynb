{
 "cells": [
  {
   "cell_type": "markdown",
   "metadata": {},
   "source": [
    "# W51North Masers Brightness Temperatures"
   ]
  },
  {
   "cell_type": "code",
   "execution_count": 24,
   "metadata": {},
   "outputs": [],
   "source": [
    "from astropy import units as u\n",
    "from spectral_cube import SpectralCube\n",
    "import numpy as np\n",
    "import radio_beam"
   ]
  },
  {
   "cell_type": "code",
   "execution_count": 11,
   "metadata": {},
   "outputs": [
    {
     "name": "stdout",
     "output_type": "stream",
     "text": [
      "/orange/adamginsburg/w51/vla/19A-254/derod\n"
     ]
    }
   ],
   "source": [
    "cd /orange/adamginsburg/w51/vla/19A-254/derod/"
   ]
  },
  {
   "cell_type": "markdown",
   "metadata": {},
   "source": [
    "## (5,3)\n",
    "```\n",
    "W51North_spw_44_corrected2.image\n",
    "```"
   ]
  },
  {
   "cell_type": "code",
   "execution_count": 4,
   "metadata": {},
   "outputs": [
    {
     "ename": "SyntaxError",
     "evalue": "invalid syntax (3464823612.py, line 5)",
     "output_type": "error",
     "traceback": [
      "\u001b[0;36m  File \u001b[0;32m\"/scratch/local/14892325/ipykernel_73843/3464823612.py\"\u001b[0;36m, line \u001b[0;32m5\u001b[0m\n\u001b[0;31m    bmaj, bmin =\u001b[0m\n\u001b[0m                 ^\u001b[0m\n\u001b[0;31mSyntaxError\u001b[0m\u001b[0;31m:\u001b[0m invalid syntax\n"
     ]
    }
   ],
   "source": [
    "bmaj, bmin = \n",
    "fwhm_to_sigma =\n",
    "beam_area =\n",
    "freq = \n",
    "equiv =\n",
    "print((0.0376*u.Jy/beam_area).to(u.K, equivalencies=equiv))"
   ]
  },
  {
   "cell_type": "code",
   "execution_count": 32,
   "metadata": {},
   "outputs": [
    {
     "name": "stderr",
     "output_type": "stream",
     "text": [
      "WARNING: StokesWarning: Cube is a Stokes cube, returning spectral cube for I component [spectral_cube.io.core]\n"
     ]
    },
    {
     "data": {
      "text/latex": [
       "Beam: BMAJ=$0.08255475014448166^{''}$ BMIN=$0.08041347563266754^{''}$ BPA=$53.338462829589844^\\circ$"
      ],
      "text/plain": [
       "Beam: BMAJ=0.08255475014448166 arcsec BMIN=0.08041347563266754 arcsec BPA=53.338462829589844 deg"
      ]
     },
     "execution_count": 32,
     "metadata": {},
     "output_type": "execute_result"
    }
   ],
   "source": [
    "fn = 'W51North_spw_44_corrected2.image'\n",
    "cube = SpectralCube.read(fn, format='casa_image')\n",
    "cube[100,:,:].beam"
   ]
  },
  {
   "cell_type": "code",
   "execution_count": 31,
   "metadata": {},
   "outputs": [
    {
     "data": {
      "text/latex": [
       "Beam: BMAJ=$0.08259303867816925^{''}$ BMIN=$0.08022333681583405^{''}$ BPA=$55.59284591674805^\\circ$"
      ],
      "text/plain": [
       "Beam: BMAJ=0.08259303867816925 arcsec BMIN=0.08022333681583405 arcsec BPA=55.59284591674805 deg"
      ]
     },
     "execution_count": 31,
     "metadata": {},
     "output_type": "execute_result"
    }
   ],
   "source": [
    "cube[47,:,:].beam"
   ]
  },
  {
   "cell_type": "code",
   "execution_count": null,
   "metadata": {},
   "outputs": [],
   "source": []
  }
 ],
 "metadata": {
  "kernelspec": {
   "display_name": "UFRC Python-3.8",
   "language": "python",
   "name": "python3-3.8-ufrc"
  },
  "language_info": {
   "codemirror_mode": {
    "name": "ipython",
    "version": 3
   },
   "file_extension": ".py",
   "mimetype": "text/x-python",
   "name": "python",
   "nbconvert_exporter": "python",
   "pygments_lexer": "ipython3",
   "version": "3.8.5"
  }
 },
 "nbformat": 4,
 "nbformat_minor": 4
}
